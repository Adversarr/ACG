{
 "cells": [
  {
   "cell_type": "code",
   "execution_count": 11,
   "metadata": {},
   "outputs": [],
   "source": [
    "import sympy as sp\n",
    "import numpy as np\n",
    "from sympy import Symbol, hessian, simplify, count_ops\n",
    "from functools import reduce\n",
    "from sympy.utilities import codegen\n",
    "from sympy.codegen.rewriting import optimize, optims_c99, create_expand_pow_optimization\n",
    "import os\n",
    "\n",
    "def jacobian_for(expr, vars):\n",
    "    return sp.Matrix([expr]).jacobian(vars)\n",
    "\n",
    "def hessian_for(expr, vars):\n",
    "    return hessian(expr, vars)\n",
    "\n",
    "def generate_code_for(expr, vars, name):\n",
    "    oe = optimize(expr, optims_c99)\n",
    "    jac = jacobian_for(oe, vars)\n",
    "    hes = hessian_for(oe, vars)\n",
    "    print(\"Value ops: \", count_ops(oe, True))\n",
    "    print(\"Jacob ops: \", count_ops(jac, True))\n",
    "    # print(\"Hessi ops: \", count_ops(hes, True))\n",
    "    cc = codegen.C99CodeGen(project = \"acgipc\", cse=True)\n",
    "    [(cn, cc), (hn, hc)] = codegen.codegen(\n",
    "        [(name + \"_value\", oe),\n",
    "         (name + \"_grad\", jac),\n",
    "        #  (name + \"_hessian\", hes)\n",
    "         ], code_gen=cc)\n",
    "    if not os.path.exists('generated'):\n",
    "        os.mkdir('generated')\n",
    "    with open(\"generated/\" + cn, mode='w') as f:\n",
    "        f.write(cc)\n",
    "    with open(\"generated/\" + hn, mode='w') as f:\n",
    "        f.write(hc)\n",
    "\n"
   ]
  },
  {
   "attachments": {},
   "cell_type": "markdown",
   "metadata": {},
   "source": [
    "# Vertex Face Distance"
   ]
  },
  {
   "cell_type": "code",
   "execution_count": 12,
   "metadata": {},
   "outputs": [
    {
     "data": {
      "text/plain": [
       "[a_0, a_1, a_2, b_0, b_1, b_2, c_0, c_1, c_2, d_0, d_1, d_2]"
      ]
     },
     "execution_count": 12,
     "metadata": {},
     "output_type": "execute_result"
    }
   ],
   "source": [
    "def declare_vector(name, dim):\n",
    "    return sp.Matrix(sp.symbols([f'{name}_{i}' for i in range(dim)], real=True))\n",
    "\n",
    "a = declare_vector('a', 3)\n",
    "b = declare_vector('b', 3)\n",
    "c = declare_vector('c', 3)\n",
    "d = declare_vector('d', 3)\n",
    "free_symbols = reduce(lambda x, y: x + y, [a.tolist(), b.tolist(), c.tolist(), d.tolist()])\n",
    "free_symbols = reduce(lambda x, y: x + y, free_symbols)\n",
    "free_symbols"
   ]
  },
  {
   "cell_type": "code",
   "execution_count": 13,
   "metadata": {},
   "outputs": [
    {
     "data": {
      "text/latex": [
       "$\\displaystyle \\frac{- \\left(a_{0} - d_{0}\\right) \\left(\\left(a_{1} - b_{1}\\right) \\left(a_{2} - c_{2}\\right) - \\left(a_{1} - c_{1}\\right) \\left(a_{2} - b_{2}\\right)\\right) + \\left(a_{1} - d_{1}\\right) \\left(\\left(a_{0} - b_{0}\\right) \\left(a_{2} - c_{2}\\right) - \\left(a_{0} - c_{0}\\right) \\left(a_{2} - b_{2}\\right)\\right) - \\left(a_{2} - d_{2}\\right) \\left(\\left(a_{0} - b_{0}\\right) \\left(a_{1} - c_{1}\\right) - \\left(a_{0} - c_{0}\\right) \\left(a_{1} - b_{1}\\right)\\right)}{\\sqrt{\\left(\\left(a_{0} - b_{0}\\right) \\left(a_{1} - c_{1}\\right) - \\left(a_{0} - c_{0}\\right) \\left(a_{1} - b_{1}\\right)\\right)^{2} + \\left(\\left(a_{0} - b_{0}\\right) \\left(a_{2} - c_{2}\\right) - \\left(a_{0} - c_{0}\\right) \\left(a_{2} - b_{2}\\right)\\right)^{2} + \\left(\\left(a_{1} - b_{1}\\right) \\left(a_{2} - c_{2}\\right) - \\left(a_{1} - c_{1}\\right) \\left(a_{2} - b_{2}\\right)\\right)^{2}}}$"
      ],
      "text/plain": [
       "(-(a_0 - d_0)*((a_1 - b_1)*(a_2 - c_2) - (a_1 - c_1)*(a_2 - b_2)) + (a_1 - d_1)*((a_0 - b_0)*(a_2 - c_2) - (a_0 - c_0)*(a_2 - b_2)) - (a_2 - d_2)*((a_0 - b_0)*(a_1 - c_1) - (a_0 - c_0)*(a_1 - b_1)))/sqrt(((a_0 - b_0)*(a_1 - c_1) - (a_0 - c_0)*(a_1 - b_1))**2 + ((a_0 - b_0)*(a_2 - c_2) - (a_0 - c_0)*(a_2 - b_2))**2 + ((a_1 - b_1)*(a_2 - c_2) - (a_1 - c_1)*(a_2 - b_2))**2)"
      ]
     },
     "execution_count": 13,
     "metadata": {},
     "output_type": "execute_result"
    }
   ],
   "source": [
    "normal = (b - a).cross(c - a)\n",
    "normal_normal = normal.normalized()\n",
    "off = (d - a)\n",
    "distance = simplify(normal_normal.dot(off))\n",
    "distance"
   ]
  },
  {
   "cell_type": "code",
   "execution_count": 14,
   "metadata": {},
   "outputs": [
    {
     "name": "stdout",
     "output_type": "stream",
     "text": [
      "Value ops:  2*ADD + 2*DIV + 15*MUL + 4*POW + 35*SUB\n",
      "Jacob ops:  63*ADD + 60*DIV + 336*MUL + 9*NEG + 84*POW + 678*SUB\n"
     ]
    }
   ],
   "source": [
    "generate_code_for(distance, free_symbols, 'vfd')"
   ]
  },
  {
   "attachments": {},
   "cell_type": "markdown",
   "metadata": {},
   "source": [
    "# Edge Edge Distance"
   ]
  },
  {
   "cell_type": "code",
   "execution_count": 15,
   "metadata": {},
   "outputs": [
    {
     "data": {
      "text/latex": [
       "$\\displaystyle \\frac{- \\left(a_{0} - c_{0}\\right) \\left(\\left(a_{1} - b_{1}\\right) \\left(c_{2} - d_{2}\\right) - \\left(a_{2} - b_{2}\\right) \\left(c_{1} - d_{1}\\right)\\right) + \\left(a_{1} - c_{1}\\right) \\left(\\left(a_{0} - b_{0}\\right) \\left(c_{2} - d_{2}\\right) - \\left(a_{2} - b_{2}\\right) \\left(c_{0} - d_{0}\\right)\\right) - \\left(a_{2} - c_{2}\\right) \\left(\\left(a_{0} - b_{0}\\right) \\left(c_{1} - d_{1}\\right) - \\left(a_{1} - b_{1}\\right) \\left(c_{0} - d_{0}\\right)\\right)}{\\sqrt{\\left(\\left(a_{0} - b_{0}\\right) \\left(c_{1} - d_{1}\\right) - \\left(a_{1} - b_{1}\\right) \\left(c_{0} - d_{0}\\right)\\right)^{2} + \\left(\\left(a_{0} - b_{0}\\right) \\left(c_{2} - d_{2}\\right) - \\left(a_{2} - b_{2}\\right) \\left(c_{0} - d_{0}\\right)\\right)^{2} + \\left(\\left(a_{1} - b_{1}\\right) \\left(c_{2} - d_{2}\\right) - \\left(a_{2} - b_{2}\\right) \\left(c_{1} - d_{1}\\right)\\right)^{2}}}$"
      ],
      "text/plain": [
       "(-(a_0 - c_0)*((a_1 - b_1)*(c_2 - d_2) - (a_2 - b_2)*(c_1 - d_1)) + (a_1 - c_1)*((a_0 - b_0)*(c_2 - d_2) - (a_2 - b_2)*(c_0 - d_0)) - (a_2 - c_2)*((a_0 - b_0)*(c_1 - d_1) - (a_1 - b_1)*(c_0 - d_0)))/sqrt(((a_0 - b_0)*(c_1 - d_1) - (a_1 - b_1)*(c_0 - d_0))**2 + ((a_0 - b_0)*(c_2 - d_2) - (a_2 - b_2)*(c_0 - d_0))**2 + ((a_1 - b_1)*(c_2 - d_2) - (a_2 - b_2)*(c_1 - d_1))**2)"
      ]
     },
     "execution_count": 15,
     "metadata": {},
     "output_type": "execute_result"
    }
   ],
   "source": [
    "e0 = a - b\n",
    "e1 = c - d\n",
    "ee_norm = e0.cross(e1).normalized()\n",
    "ee_distance = simplify((c - a).dot(ee_norm))\n",
    "ee_distance"
   ]
  },
  {
   "cell_type": "code",
   "execution_count": 16,
   "metadata": {},
   "outputs": [
    {
     "name": "stdout",
     "output_type": "stream",
     "text": [
      "Value ops:  2*ADD + 2*DIV + 15*MUL + 4*POW + 35*SUB\n",
      "Jacob ops:  78*ADD + 72*DIV + 420*MUL + 12*NEG + 96*POW + 834*SUB\n"
     ]
    }
   ],
   "source": [
    "generate_code_for(ee_distance, free_symbols, 'eed')"
   ]
  },
  {
   "attachments": {},
   "cell_type": "markdown",
   "metadata": {},
   "source": [
    "# Vertex Edge Distance"
   ]
  },
  {
   "cell_type": "code",
   "execution_count": 17,
   "metadata": {},
   "outputs": [
    {
     "data": {
      "text/latex": [
       "$\\displaystyle \\frac{\\sqrt{\\left(\\left(a_{0} - b_{0}\\right) \\left(a_{1} - c_{1}\\right) - \\left(a_{0} - c_{0}\\right) \\left(a_{1} - b_{1}\\right)\\right)^{2} + \\left(\\left(a_{0} - b_{0}\\right) \\left(a_{2} - c_{2}\\right) - \\left(a_{0} - c_{0}\\right) \\left(a_{2} - b_{2}\\right)\\right)^{2} + \\left(\\left(a_{1} - b_{1}\\right) \\left(a_{2} - c_{2}\\right) - \\left(a_{1} - c_{1}\\right) \\left(a_{2} - b_{2}\\right)\\right)^{2}}}{\\sqrt{\\left(a_{0} - b_{0}\\right)^{2} + \\left(a_{1} - b_{1}\\right)^{2} + \\left(a_{2} - b_{2}\\right)^{2}}}$"
      ],
      "text/plain": [
       "sqrt(((a_0 - b_0)*(a_1 - c_1) - (a_0 - c_0)*(a_1 - b_1))**2 + ((a_0 - b_0)*(a_2 - c_2) - (a_0 - c_0)*(a_2 - b_2))**2 + ((a_1 - b_1)*(a_2 - c_2) - (a_1 - c_1)*(a_2 - b_2))**2)/sqrt((a_0 - b_0)**2 + (a_1 - b_1)**2 + (a_2 - b_2)**2)"
      ]
     },
     "execution_count": 17,
     "metadata": {},
     "output_type": "execute_result"
    }
   ],
   "source": [
    "ev_distance = simplify(e0.normalized().cross(c - a).norm())\n",
    "ev_distance"
   ]
  },
  {
   "cell_type": "code",
   "execution_count": 18,
   "metadata": {},
   "outputs": [
    {
     "name": "stdout",
     "output_type": "stream",
     "text": [
      "Value ops:  4*ADD + 3*DIV + 6*MUL + 8*POW + 18*SUB\n",
      "Jacob ops:  75*ADD + 63*DIV + 195*MUL + 120*POW + 384*SUB\n"
     ]
    }
   ],
   "source": [
    "ev_free = free_symbols[:9]\n",
    "generate_code_for(ev_distance, ev_free, 'evd')"
   ]
  },
  {
   "attachments": {},
   "cell_type": "markdown",
   "metadata": {},
   "source": [
    "# Vertex Vertex Distance"
   ]
  },
  {
   "cell_type": "code",
   "execution_count": 19,
   "metadata": {},
   "outputs": [
    {
     "data": {
      "text/latex": [
       "$\\displaystyle \\sqrt{\\left(a_{0} - b_{0}\\right)^{2} + \\left(a_{1} - b_{1}\\right)^{2} + \\left(a_{2} - b_{2}\\right)^{2}}$"
      ],
      "text/plain": [
       "sqrt((a_0 - b_0)**2 + (a_1 - b_1)**2 + (a_2 - b_2)**2)"
      ]
     },
     "execution_count": 19,
     "metadata": {},
     "output_type": "execute_result"
    }
   ],
   "source": [
    "vv_dist = simplify(e0.norm())\n",
    "vv_dist"
   ]
  },
  {
   "cell_type": "code",
   "execution_count": 20,
   "metadata": {},
   "outputs": [
    {
     "name": "stdout",
     "output_type": "stream",
     "text": [
      "Value ops:  2*ADD + DIV + 4*POW + 3*SUB\n",
      "Jacob ops:  12*ADD + 12*DIV + 24*POW + 24*SUB\n"
     ]
    }
   ],
   "source": [
    "generate_code_for(vv_dist, free_symbols[:6], 'vvd')"
   ]
  },
  {
   "cell_type": "code",
   "execution_count": null,
   "metadata": {},
   "outputs": [],
   "source": []
  }
 ],
 "metadata": {
  "kernelspec": {
   "display_name": "base",
   "language": "python",
   "name": "python3"
  },
  "language_info": {
   "codemirror_mode": {
    "name": "ipython",
    "version": 3
   },
   "file_extension": ".py",
   "mimetype": "text/x-python",
   "name": "python",
   "nbconvert_exporter": "python",
   "pygments_lexer": "ipython3",
   "version": "3.9.13"
  },
  "orig_nbformat": 4,
  "vscode": {
   "interpreter": {
    "hash": "38cca0c38332a56087b24af0bc80247f4fced29cb4f7f437d91dc159adec9c4e"
   }
  }
 },
 "nbformat": 4,
 "nbformat_minor": 2
}
