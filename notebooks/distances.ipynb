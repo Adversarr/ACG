{
 "cells": [
  {
   "cell_type": "code",
   "execution_count": 1,
   "metadata": {},
   "outputs": [],
   "source": [
    "import sympy as sp\n",
    "import numpy as np\n",
    "from sympy import Symbol, hessian, simplify, count_ops\n",
    "from functools import reduce\n",
    "from sympy.utilities import codegen\n",
    "from sympy.codegen.rewriting import optimize, optims_c99, create_expand_pow_optimization\n",
    "import os\n",
    "\n",
    "def jacobian_for(expr, vars):\n",
    "    return sp.Matrix([expr]).jacobian(vars)\n",
    "\n",
    "def hessian_for(expr, vars):\n",
    "    return hessian(expr, vars)\n",
    "\n",
    "def generate_code_for(expr, vars, name):\n",
    "    oe = optimize(expr, optims_c99)\n",
    "    cc = codegen.C99CodeGen(project = \"acg-3rdparty-ipc\", cse=True)\n",
    "    Eq = sp.Eq\n",
    "    [(cn, cc), (hn, hc)] = codegen.codegen(\n",
    "        [(name + \"_value\", oe),\n",
    "         (name + \"_grad\", jacobian_for(oe, vars)),\n",
    "         (name + \"_hessian\", hessian_for(oe, vars))], code_gen=cc)\n",
    "    if not os.path.exists('generated'):\n",
    "        os.mkdir('generated')\n",
    "    with open(\"generated/\" + cn, mode='w') as f:\n",
    "        f.write(cc)\n",
    "    with open(\"generated/\" + hn, mode='w') as f:\n",
    "        f.write(hc)\n",
    "\n"
   ]
  },
  {
   "attachments": {},
   "cell_type": "markdown",
   "metadata": {},
   "source": [
    "# Definition of Barrier Function\n",
    "\n",
    "Barrier is defined as:\n",
    "\n",
    "$$\n",
    "b(d, \\hat d) = \\begin{cases}\n",
    "-(d - \\hat d)^2 \\log (d/\\hat d)& d < \\hat d,\\\\\n",
    "0, & otherwise\n",
    "\\end{cases}\n",
    "$$"
   ]
  },
  {
   "cell_type": "code",
   "execution_count": 2,
   "metadata": {},
   "outputs": [],
   "source": [
    "dhat = sp.var('d_h')\n",
    "def dist_barrier(d):\n",
    "    return - (d - dhat) * (d - dhat) * sp.ln(d / dhat)"
   ]
  },
  {
   "attachments": {},
   "cell_type": "markdown",
   "metadata": {},
   "source": [
    "## test"
   ]
  },
  {
   "cell_type": "code",
   "execution_count": 3,
   "metadata": {},
   "outputs": [
    {
     "data": {
      "text/latex": [
       "$\\displaystyle \\left(- d + d_{h}\\right) \\left(d - d_{h}\\right) \\log{\\left(\\frac{d}{d_{h}} \\right)}$"
      ],
      "text/plain": [
       "(-d + d_h)*(d - d_h)*log(d/d_h)"
      ]
     },
     "execution_count": 3,
     "metadata": {},
     "output_type": "execute_result"
    }
   ],
   "source": [
    "dist_barrier(Symbol('d'))"
   ]
  },
  {
   "attachments": {},
   "cell_type": "markdown",
   "metadata": {},
   "source": [
    "# Vertex-Face Barrier\n",
    "\n",
    "- Face = $a, b, c$\n",
    "- Vertex = $d$"
   ]
  },
  {
   "cell_type": "code",
   "execution_count": 4,
   "metadata": {},
   "outputs": [
    {
     "data": {
      "text/plain": [
       "[a_0, a_1, a_2, b_0, b_1, b_2, c_0, c_1, c_2, d_0, d_1, d_2]"
      ]
     },
     "execution_count": 4,
     "metadata": {},
     "output_type": "execute_result"
    }
   ],
   "source": [
    "def declare_vector(name, dim):\n",
    "    return sp.Matrix(sp.symbols([f'{name}_{i}' for i in range(dim)], real=True))\n",
    "\n",
    "a = declare_vector('a', 3)\n",
    "b = declare_vector('b', 3)\n",
    "c = declare_vector('c', 3)\n",
    "d = declare_vector('d', 3)\n",
    "free_symbols = reduce(lambda x, y: x + y, [a.tolist(), b.tolist(), c.tolist(), d.tolist()])\n",
    "free_symbols = reduce(lambda x, y: x + y, free_symbols)\n",
    "free_symbols"
   ]
  },
  {
   "attachments": {},
   "cell_type": "markdown",
   "metadata": {},
   "source": [
    "## Normal of the triangle"
   ]
  },
  {
   "cell_type": "code",
   "execution_count": 5,
   "metadata": {},
   "outputs": [
    {
     "data": {
      "text/latex": [
       "$\\displaystyle \\frac{\\left(- a_{1} + b_{1}\\right) \\left(- a_{2} + c_{2}\\right) - \\left(- a_{1} + c_{1}\\right) \\left(- a_{2} + b_{2}\\right)}{\\sqrt{\\left(\\left(- a_{0} + b_{0}\\right) \\left(- a_{1} + c_{1}\\right) - \\left(- a_{0} + c_{0}\\right) \\left(- a_{1} + b_{1}\\right)\\right)^{2} + \\left(\\left(a_{0} - b_{0}\\right) \\left(a_{2} - c_{2}\\right) - \\left(a_{0} - c_{0}\\right) \\left(a_{2} - b_{2}\\right)\\right)^{2} + \\left(\\left(- a_{1} + b_{1}\\right) \\left(- a_{2} + c_{2}\\right) - \\left(- a_{1} + c_{1}\\right) \\left(- a_{2} + b_{2}\\right)\\right)^{2}}}$"
      ],
      "text/plain": [
       "((-a_1 + b_1)*(-a_2 + c_2) - (-a_1 + c_1)*(-a_2 + b_2))/sqrt(((-a_0 + b_0)*(-a_1 + c_1) - (-a_0 + c_0)*(-a_1 + b_1))**2 + ((a_0 - b_0)*(a_2 - c_2) - (a_0 - c_0)*(a_2 - b_2))**2 + ((-a_1 + b_1)*(-a_2 + c_2) - (-a_1 + c_1)*(-a_2 + b_2))**2)"
      ]
     },
     "execution_count": 5,
     "metadata": {},
     "output_type": "execute_result"
    }
   ],
   "source": [
    "normal = (b - a).cross(c - a)\n",
    "normal_normal = normal.normalized()\n",
    "normal_normal[0]"
   ]
  },
  {
   "attachments": {},
   "cell_type": "markdown",
   "metadata": {},
   "source": [
    "## Offset from triangle vertex 0 to extra vertex"
   ]
  },
  {
   "cell_type": "code",
   "execution_count": 6,
   "metadata": {},
   "outputs": [
    {
     "data": {
      "text/latex": [
       "$\\displaystyle \\left[\\begin{matrix}- a_{0} + d_{0}\\\\- a_{1} + d_{1}\\\\- a_{2} + d_{2}\\end{matrix}\\right]$"
      ],
      "text/plain": [
       "Matrix([\n",
       "[-a_0 + d_0],\n",
       "[-a_1 + d_1],\n",
       "[-a_2 + d_2]])"
      ]
     },
     "execution_count": 6,
     "metadata": {},
     "output_type": "execute_result"
    }
   ],
   "source": [
    "off = (d - a)\n",
    "off"
   ]
  },
  {
   "attachments": {},
   "cell_type": "markdown",
   "metadata": {},
   "source": [
    "## Distance and barrier"
   ]
  },
  {
   "cell_type": "code",
   "execution_count": 7,
   "metadata": {},
   "outputs": [
    {
     "data": {
      "text/latex": [
       "$\\displaystyle \\frac{\\left(\\left(a_{0} - d_{0}\\right) \\left(\\left(a_{1} - b_{1}\\right) \\left(a_{2} - c_{2}\\right) - \\left(a_{1} - c_{1}\\right) \\left(a_{2} - b_{2}\\right)\\right) - \\left(a_{1} - d_{1}\\right) \\left(\\left(a_{0} - b_{0}\\right) \\left(a_{2} - c_{2}\\right) - \\left(a_{0} - c_{0}\\right) \\left(a_{2} - b_{2}\\right)\\right) + \\left(a_{2} - d_{2}\\right) \\left(\\left(a_{0} - b_{0}\\right) \\left(a_{1} - c_{1}\\right) - \\left(a_{0} - c_{0}\\right) \\left(a_{1} - b_{1}\\right)\\right)\\right)^{2}}{\\left(\\left(a_{0} - b_{0}\\right) \\left(a_{1} - c_{1}\\right) - \\left(a_{0} - c_{0}\\right) \\left(a_{1} - b_{1}\\right)\\right)^{2} + \\left(\\left(a_{0} - b_{0}\\right) \\left(a_{2} - c_{2}\\right) - \\left(a_{0} - c_{0}\\right) \\left(a_{2} - b_{2}\\right)\\right)^{2} + \\left(\\left(a_{1} - b_{1}\\right) \\left(a_{2} - c_{2}\\right) - \\left(a_{1} - c_{1}\\right) \\left(a_{2} - b_{2}\\right)\\right)^{2}}$"
      ],
      "text/plain": [
       "((a_0 - d_0)*((a_1 - b_1)*(a_2 - c_2) - (a_1 - c_1)*(a_2 - b_2)) - (a_1 - d_1)*((a_0 - b_0)*(a_2 - c_2) - (a_0 - c_0)*(a_2 - b_2)) + (a_2 - d_2)*((a_0 - b_0)*(a_1 - c_1) - (a_0 - c_0)*(a_1 - b_1)))**2/(((a_0 - b_0)*(a_1 - c_1) - (a_0 - c_0)*(a_1 - b_1))**2 + ((a_0 - b_0)*(a_2 - c_2) - (a_0 - c_0)*(a_2 - b_2))**2 + ((a_1 - b_1)*(a_2 - c_2) - (a_1 - c_1)*(a_2 - b_2))**2)"
      ]
     },
     "execution_count": 7,
     "metadata": {},
     "output_type": "execute_result"
    }
   ],
   "source": [
    "distance = simplify(normal_normal.dot(off))\n",
    "distance2 = simplify(distance * distance)\n",
    "distance2"
   ]
  },
  {
   "cell_type": "code",
   "execution_count": 8,
   "metadata": {},
   "outputs": [
    {
     "data": {
      "text/latex": [
       "$\\displaystyle \\left(- d_{h} + \\frac{\\left(\\left(a_{0} - d_{0}\\right) \\left(\\left(a_{1} - b_{1}\\right) \\left(a_{2} - c_{2}\\right) - \\left(a_{1} - c_{1}\\right) \\left(a_{2} - b_{2}\\right)\\right) - \\left(a_{1} - d_{1}\\right) \\left(\\left(a_{0} - b_{0}\\right) \\left(a_{2} - c_{2}\\right) - \\left(a_{0} - c_{0}\\right) \\left(a_{2} - b_{2}\\right)\\right) + \\left(a_{2} - d_{2}\\right) \\left(\\left(a_{0} - b_{0}\\right) \\left(a_{1} - c_{1}\\right) - \\left(a_{0} - c_{0}\\right) \\left(a_{1} - b_{1}\\right)\\right)\\right)^{2}}{\\left(\\left(a_{0} - b_{0}\\right) \\left(a_{1} - c_{1}\\right) - \\left(a_{0} - c_{0}\\right) \\left(a_{1} - b_{1}\\right)\\right)^{2} + \\left(\\left(a_{0} - b_{0}\\right) \\left(a_{2} - c_{2}\\right) - \\left(a_{0} - c_{0}\\right) \\left(a_{2} - b_{2}\\right)\\right)^{2} + \\left(\\left(a_{1} - b_{1}\\right) \\left(a_{2} - c_{2}\\right) - \\left(a_{1} - c_{1}\\right) \\left(a_{2} - b_{2}\\right)\\right)^{2}}\\right) \\left(d_{h} - \\frac{\\left(\\left(a_{0} - d_{0}\\right) \\left(\\left(a_{1} - b_{1}\\right) \\left(a_{2} - c_{2}\\right) - \\left(a_{1} - c_{1}\\right) \\left(a_{2} - b_{2}\\right)\\right) - \\left(a_{1} - d_{1}\\right) \\left(\\left(a_{0} - b_{0}\\right) \\left(a_{2} - c_{2}\\right) - \\left(a_{0} - c_{0}\\right) \\left(a_{2} - b_{2}\\right)\\right) + \\left(a_{2} - d_{2}\\right) \\left(\\left(a_{0} - b_{0}\\right) \\left(a_{1} - c_{1}\\right) - \\left(a_{0} - c_{0}\\right) \\left(a_{1} - b_{1}\\right)\\right)\\right)^{2}}{\\left(\\left(a_{0} - b_{0}\\right) \\left(a_{1} - c_{1}\\right) - \\left(a_{0} - c_{0}\\right) \\left(a_{1} - b_{1}\\right)\\right)^{2} + \\left(\\left(a_{0} - b_{0}\\right) \\left(a_{2} - c_{2}\\right) - \\left(a_{0} - c_{0}\\right) \\left(a_{2} - b_{2}\\right)\\right)^{2} + \\left(\\left(a_{1} - b_{1}\\right) \\left(a_{2} - c_{2}\\right) - \\left(a_{1} - c_{1}\\right) \\left(a_{2} - b_{2}\\right)\\right)^{2}}\\right) \\log{\\left(\\frac{\\left(\\left(a_{0} - d_{0}\\right) \\left(\\left(a_{1} - b_{1}\\right) \\left(a_{2} - c_{2}\\right) - \\left(a_{1} - c_{1}\\right) \\left(a_{2} - b_{2}\\right)\\right) - \\left(a_{1} - d_{1}\\right) \\left(\\left(a_{0} - b_{0}\\right) \\left(a_{2} - c_{2}\\right) - \\left(a_{0} - c_{0}\\right) \\left(a_{2} - b_{2}\\right)\\right) + \\left(a_{2} - d_{2}\\right) \\left(\\left(a_{0} - b_{0}\\right) \\left(a_{1} - c_{1}\\right) - \\left(a_{0} - c_{0}\\right) \\left(a_{1} - b_{1}\\right)\\right)\\right)^{2}}{d_{h} \\left(\\left(\\left(a_{0} - b_{0}\\right) \\left(a_{1} - c_{1}\\right) - \\left(a_{0} - c_{0}\\right) \\left(a_{1} - b_{1}\\right)\\right)^{2} + \\left(\\left(a_{0} - b_{0}\\right) \\left(a_{2} - c_{2}\\right) - \\left(a_{0} - c_{0}\\right) \\left(a_{2} - b_{2}\\right)\\right)^{2} + \\left(\\left(a_{1} - b_{1}\\right) \\left(a_{2} - c_{2}\\right) - \\left(a_{1} - c_{1}\\right) \\left(a_{2} - b_{2}\\right)\\right)^{2}\\right)} \\right)}$"
      ],
      "text/plain": [
       "(-d_h + ((a_0 - d_0)*((a_1 - b_1)*(a_2 - c_2) - (a_1 - c_1)*(a_2 - b_2)) - (a_1 - d_1)*((a_0 - b_0)*(a_2 - c_2) - (a_0 - c_0)*(a_2 - b_2)) + (a_2 - d_2)*((a_0 - b_0)*(a_1 - c_1) - (a_0 - c_0)*(a_1 - b_1)))**2/(((a_0 - b_0)*(a_1 - c_1) - (a_0 - c_0)*(a_1 - b_1))**2 + ((a_0 - b_0)*(a_2 - c_2) - (a_0 - c_0)*(a_2 - b_2))**2 + ((a_1 - b_1)*(a_2 - c_2) - (a_1 - c_1)*(a_2 - b_2))**2))*(d_h - ((a_0 - d_0)*((a_1 - b_1)*(a_2 - c_2) - (a_1 - c_1)*(a_2 - b_2)) - (a_1 - d_1)*((a_0 - b_0)*(a_2 - c_2) - (a_0 - c_0)*(a_2 - b_2)) + (a_2 - d_2)*((a_0 - b_0)*(a_1 - c_1) - (a_0 - c_0)*(a_1 - b_1)))**2/(((a_0 - b_0)*(a_1 - c_1) - (a_0 - c_0)*(a_1 - b_1))**2 + ((a_0 - b_0)*(a_2 - c_2) - (a_0 - c_0)*(a_2 - b_2))**2 + ((a_1 - b_1)*(a_2 - c_2) - (a_1 - c_1)*(a_2 - b_2))**2))*log(((a_0 - d_0)*((a_1 - b_1)*(a_2 - c_2) - (a_1 - c_1)*(a_2 - b_2)) - (a_1 - d_1)*((a_0 - b_0)*(a_2 - c_2) - (a_0 - c_0)*(a_2 - b_2)) + (a_2 - d_2)*((a_0 - b_0)*(a_1 - c_1) - (a_0 - c_0)*(a_1 - b_1)))**2/(d_h*(((a_0 - b_0)*(a_1 - c_1) - (a_0 - c_0)*(a_1 - b_1))**2 + ((a_0 - b_0)*(a_2 - c_2) - (a_0 - c_0)*(a_2 - b_2))**2 + ((a_1 - b_1)*(a_2 - c_2) - (a_1 - c_1)*(a_2 - b_2))**2)))"
      ]
     },
     "execution_count": 8,
     "metadata": {},
     "output_type": "execute_result"
    }
   ],
   "source": [
    "barrier = dist_barrier(distance2)\n",
    "# TODO: Simplify the barrier cost a lot of time.\n",
    "barrier"
   ]
  },
  {
   "attachments": {},
   "cell_type": "markdown",
   "metadata": {},
   "source": [
    "## Hessian and jacobian for barrier"
   ]
  },
  {
   "cell_type": "code",
   "execution_count": 9,
   "metadata": {},
   "outputs": [],
   "source": [
    "generate_code_for(barrier, free_symbols, \"vertex_face\")"
   ]
  },
  {
   "attachments": {},
   "cell_type": "markdown",
   "metadata": {},
   "source": [
    "# Distance for Edge and Edge\n",
    "\n",
    "- Edge 0: $a, b$\n",
    "- Edge 1: $c, d$"
   ]
  },
  {
   "cell_type": "code",
   "execution_count": 10,
   "metadata": {},
   "outputs": [
    {
     "data": {
      "text/latex": [
       "$\\displaystyle \\left[\\begin{matrix}\\frac{\\left(a_{1} - b_{1}\\right) \\left(c_{2} - d_{2}\\right) - \\left(a_{2} - b_{2}\\right) \\left(c_{1} - d_{1}\\right)}{\\sqrt{\\left(\\left(a_{0} - b_{0}\\right) \\left(c_{1} - d_{1}\\right) - \\left(a_{1} - b_{1}\\right) \\left(c_{0} - d_{0}\\right)\\right)^{2} + \\left(\\left(a_{0} - b_{0}\\right) \\left(c_{2} - d_{2}\\right) - \\left(a_{2} - b_{2}\\right) \\left(c_{0} - d_{0}\\right)\\right)^{2} + \\left(\\left(a_{1} - b_{1}\\right) \\left(c_{2} - d_{2}\\right) - \\left(a_{2} - b_{2}\\right) \\left(c_{1} - d_{1}\\right)\\right)^{2}}}\\\\\\frac{- \\left(a_{0} - b_{0}\\right) \\left(c_{2} - d_{2}\\right) + \\left(a_{2} - b_{2}\\right) \\left(c_{0} - d_{0}\\right)}{\\sqrt{\\left(\\left(a_{0} - b_{0}\\right) \\left(c_{1} - d_{1}\\right) - \\left(a_{1} - b_{1}\\right) \\left(c_{0} - d_{0}\\right)\\right)^{2} + \\left(\\left(a_{0} - b_{0}\\right) \\left(c_{2} - d_{2}\\right) - \\left(a_{2} - b_{2}\\right) \\left(c_{0} - d_{0}\\right)\\right)^{2} + \\left(\\left(a_{1} - b_{1}\\right) \\left(c_{2} - d_{2}\\right) - \\left(a_{2} - b_{2}\\right) \\left(c_{1} - d_{1}\\right)\\right)^{2}}}\\\\\\frac{\\left(a_{0} - b_{0}\\right) \\left(c_{1} - d_{1}\\right) - \\left(a_{1} - b_{1}\\right) \\left(c_{0} - d_{0}\\right)}{\\sqrt{\\left(\\left(a_{0} - b_{0}\\right) \\left(c_{1} - d_{1}\\right) - \\left(a_{1} - b_{1}\\right) \\left(c_{0} - d_{0}\\right)\\right)^{2} + \\left(\\left(a_{0} - b_{0}\\right) \\left(c_{2} - d_{2}\\right) - \\left(a_{2} - b_{2}\\right) \\left(c_{0} - d_{0}\\right)\\right)^{2} + \\left(\\left(a_{1} - b_{1}\\right) \\left(c_{2} - d_{2}\\right) - \\left(a_{2} - b_{2}\\right) \\left(c_{1} - d_{1}\\right)\\right)^{2}}}\\end{matrix}\\right]$"
      ],
      "text/plain": [
       "Matrix([\n",
       "[ ((a_1 - b_1)*(c_2 - d_2) - (a_2 - b_2)*(c_1 - d_1))/sqrt(((a_0 - b_0)*(c_1 - d_1) - (a_1 - b_1)*(c_0 - d_0))**2 + ((a_0 - b_0)*(c_2 - d_2) - (a_2 - b_2)*(c_0 - d_0))**2 + ((a_1 - b_1)*(c_2 - d_2) - (a_2 - b_2)*(c_1 - d_1))**2)],\n",
       "[(-(a_0 - b_0)*(c_2 - d_2) + (a_2 - b_2)*(c_0 - d_0))/sqrt(((a_0 - b_0)*(c_1 - d_1) - (a_1 - b_1)*(c_0 - d_0))**2 + ((a_0 - b_0)*(c_2 - d_2) - (a_2 - b_2)*(c_0 - d_0))**2 + ((a_1 - b_1)*(c_2 - d_2) - (a_2 - b_2)*(c_1 - d_1))**2)],\n",
       "[ ((a_0 - b_0)*(c_1 - d_1) - (a_1 - b_1)*(c_0 - d_0))/sqrt(((a_0 - b_0)*(c_1 - d_1) - (a_1 - b_1)*(c_0 - d_0))**2 + ((a_0 - b_0)*(c_2 - d_2) - (a_2 - b_2)*(c_0 - d_0))**2 + ((a_1 - b_1)*(c_2 - d_2) - (a_2 - b_2)*(c_1 - d_1))**2)]])"
      ]
     },
     "execution_count": 10,
     "metadata": {},
     "output_type": "execute_result"
    }
   ],
   "source": [
    "e0 = a - b\n",
    "e1 = c - d\n",
    "ee_norm = e0.cross(e1).normalized()\n",
    "ee_norm"
   ]
  },
  {
   "cell_type": "code",
   "execution_count": 11,
   "metadata": {},
   "outputs": [
    {
     "data": {
      "text/latex": [
       "$\\displaystyle \\frac{\\left(\\left(a_{0} - c_{0}\\right) \\left(\\left(a_{1} - b_{1}\\right) \\left(c_{2} - d_{2}\\right) - \\left(a_{2} - b_{2}\\right) \\left(c_{1} - d_{1}\\right)\\right) - \\left(a_{1} - c_{1}\\right) \\left(\\left(a_{0} - b_{0}\\right) \\left(c_{2} - d_{2}\\right) - \\left(a_{2} - b_{2}\\right) \\left(c_{0} - d_{0}\\right)\\right) + \\left(a_{2} - c_{2}\\right) \\left(\\left(a_{0} - b_{0}\\right) \\left(c_{1} - d_{1}\\right) - \\left(a_{1} - b_{1}\\right) \\left(c_{0} - d_{0}\\right)\\right)\\right)^{2}}{\\left(\\left(a_{0} - b_{0}\\right) \\left(c_{1} - d_{1}\\right) - \\left(a_{1} - b_{1}\\right) \\left(c_{0} - d_{0}\\right)\\right)^{2} + \\left(\\left(a_{0} - b_{0}\\right) \\left(c_{2} - d_{2}\\right) - \\left(a_{2} - b_{2}\\right) \\left(c_{0} - d_{0}\\right)\\right)^{2} + \\left(\\left(a_{1} - b_{1}\\right) \\left(c_{2} - d_{2}\\right) - \\left(a_{2} - b_{2}\\right) \\left(c_{1} - d_{1}\\right)\\right)^{2}}$"
      ],
      "text/plain": [
       "((a_0 - c_0)*((a_1 - b_1)*(c_2 - d_2) - (a_2 - b_2)*(c_1 - d_1)) - (a_1 - c_1)*((a_0 - b_0)*(c_2 - d_2) - (a_2 - b_2)*(c_0 - d_0)) + (a_2 - c_2)*((a_0 - b_0)*(c_1 - d_1) - (a_1 - b_1)*(c_0 - d_0)))**2/(((a_0 - b_0)*(c_1 - d_1) - (a_1 - b_1)*(c_0 - d_0))**2 + ((a_0 - b_0)*(c_2 - d_2) - (a_2 - b_2)*(c_0 - d_0))**2 + ((a_1 - b_1)*(c_2 - d_2) - (a_2 - b_2)*(c_1 - d_1))**2)"
      ]
     },
     "execution_count": 11,
     "metadata": {},
     "output_type": "execute_result"
    }
   ],
   "source": [
    "ee_distance = (c - a).dot(ee_norm)\n",
    "ee_distance2 = simplify(ee_distance * ee_distance)\n",
    "ee_distance2"
   ]
  },
  {
   "cell_type": "code",
   "execution_count": 12,
   "metadata": {},
   "outputs": [
    {
     "data": {
      "text/latex": [
       "$\\displaystyle \\left(- d_{h} + \\frac{\\left(\\left(a_{0} - c_{0}\\right) \\left(\\left(a_{1} - b_{1}\\right) \\left(c_{2} - d_{2}\\right) - \\left(a_{2} - b_{2}\\right) \\left(c_{1} - d_{1}\\right)\\right) - \\left(a_{1} - c_{1}\\right) \\left(\\left(a_{0} - b_{0}\\right) \\left(c_{2} - d_{2}\\right) - \\left(a_{2} - b_{2}\\right) \\left(c_{0} - d_{0}\\right)\\right) + \\left(a_{2} - c_{2}\\right) \\left(\\left(a_{0} - b_{0}\\right) \\left(c_{1} - d_{1}\\right) - \\left(a_{1} - b_{1}\\right) \\left(c_{0} - d_{0}\\right)\\right)\\right)^{2}}{\\left(\\left(a_{0} - b_{0}\\right) \\left(c_{1} - d_{1}\\right) - \\left(a_{1} - b_{1}\\right) \\left(c_{0} - d_{0}\\right)\\right)^{2} + \\left(\\left(a_{0} - b_{0}\\right) \\left(c_{2} - d_{2}\\right) - \\left(a_{2} - b_{2}\\right) \\left(c_{0} - d_{0}\\right)\\right)^{2} + \\left(\\left(a_{1} - b_{1}\\right) \\left(c_{2} - d_{2}\\right) - \\left(a_{2} - b_{2}\\right) \\left(c_{1} - d_{1}\\right)\\right)^{2}}\\right) \\left(d_{h} - \\frac{\\left(\\left(a_{0} - c_{0}\\right) \\left(\\left(a_{1} - b_{1}\\right) \\left(c_{2} - d_{2}\\right) - \\left(a_{2} - b_{2}\\right) \\left(c_{1} - d_{1}\\right)\\right) - \\left(a_{1} - c_{1}\\right) \\left(\\left(a_{0} - b_{0}\\right) \\left(c_{2} - d_{2}\\right) - \\left(a_{2} - b_{2}\\right) \\left(c_{0} - d_{0}\\right)\\right) + \\left(a_{2} - c_{2}\\right) \\left(\\left(a_{0} - b_{0}\\right) \\left(c_{1} - d_{1}\\right) - \\left(a_{1} - b_{1}\\right) \\left(c_{0} - d_{0}\\right)\\right)\\right)^{2}}{\\left(\\left(a_{0} - b_{0}\\right) \\left(c_{1} - d_{1}\\right) - \\left(a_{1} - b_{1}\\right) \\left(c_{0} - d_{0}\\right)\\right)^{2} + \\left(\\left(a_{0} - b_{0}\\right) \\left(c_{2} - d_{2}\\right) - \\left(a_{2} - b_{2}\\right) \\left(c_{0} - d_{0}\\right)\\right)^{2} + \\left(\\left(a_{1} - b_{1}\\right) \\left(c_{2} - d_{2}\\right) - \\left(a_{2} - b_{2}\\right) \\left(c_{1} - d_{1}\\right)\\right)^{2}}\\right) \\log{\\left(\\frac{\\left(\\left(a_{0} - c_{0}\\right) \\left(\\left(a_{1} - b_{1}\\right) \\left(c_{2} - d_{2}\\right) - \\left(a_{2} - b_{2}\\right) \\left(c_{1} - d_{1}\\right)\\right) - \\left(a_{1} - c_{1}\\right) \\left(\\left(a_{0} - b_{0}\\right) \\left(c_{2} - d_{2}\\right) - \\left(a_{2} - b_{2}\\right) \\left(c_{0} - d_{0}\\right)\\right) + \\left(a_{2} - c_{2}\\right) \\left(\\left(a_{0} - b_{0}\\right) \\left(c_{1} - d_{1}\\right) - \\left(a_{1} - b_{1}\\right) \\left(c_{0} - d_{0}\\right)\\right)\\right)^{2}}{d_{h} \\left(\\left(\\left(a_{0} - b_{0}\\right) \\left(c_{1} - d_{1}\\right) - \\left(a_{1} - b_{1}\\right) \\left(c_{0} - d_{0}\\right)\\right)^{2} + \\left(\\left(a_{0} - b_{0}\\right) \\left(c_{2} - d_{2}\\right) - \\left(a_{2} - b_{2}\\right) \\left(c_{0} - d_{0}\\right)\\right)^{2} + \\left(\\left(a_{1} - b_{1}\\right) \\left(c_{2} - d_{2}\\right) - \\left(a_{2} - b_{2}\\right) \\left(c_{1} - d_{1}\\right)\\right)^{2}\\right)} \\right)}$"
      ],
      "text/plain": [
       "(-d_h + ((a_0 - c_0)*((a_1 - b_1)*(c_2 - d_2) - (a_2 - b_2)*(c_1 - d_1)) - (a_1 - c_1)*((a_0 - b_0)*(c_2 - d_2) - (a_2 - b_2)*(c_0 - d_0)) + (a_2 - c_2)*((a_0 - b_0)*(c_1 - d_1) - (a_1 - b_1)*(c_0 - d_0)))**2/(((a_0 - b_0)*(c_1 - d_1) - (a_1 - b_1)*(c_0 - d_0))**2 + ((a_0 - b_0)*(c_2 - d_2) - (a_2 - b_2)*(c_0 - d_0))**2 + ((a_1 - b_1)*(c_2 - d_2) - (a_2 - b_2)*(c_1 - d_1))**2))*(d_h - ((a_0 - c_0)*((a_1 - b_1)*(c_2 - d_2) - (a_2 - b_2)*(c_1 - d_1)) - (a_1 - c_1)*((a_0 - b_0)*(c_2 - d_2) - (a_2 - b_2)*(c_0 - d_0)) + (a_2 - c_2)*((a_0 - b_0)*(c_1 - d_1) - (a_1 - b_1)*(c_0 - d_0)))**2/(((a_0 - b_0)*(c_1 - d_1) - (a_1 - b_1)*(c_0 - d_0))**2 + ((a_0 - b_0)*(c_2 - d_2) - (a_2 - b_2)*(c_0 - d_0))**2 + ((a_1 - b_1)*(c_2 - d_2) - (a_2 - b_2)*(c_1 - d_1))**2))*log(((a_0 - c_0)*((a_1 - b_1)*(c_2 - d_2) - (a_2 - b_2)*(c_1 - d_1)) - (a_1 - c_1)*((a_0 - b_0)*(c_2 - d_2) - (a_2 - b_2)*(c_0 - d_0)) + (a_2 - c_2)*((a_0 - b_0)*(c_1 - d_1) - (a_1 - b_1)*(c_0 - d_0)))**2/(d_h*(((a_0 - b_0)*(c_1 - d_1) - (a_1 - b_1)*(c_0 - d_0))**2 + ((a_0 - b_0)*(c_2 - d_2) - (a_2 - b_2)*(c_0 - d_0))**2 + ((a_1 - b_1)*(c_2 - d_2) - (a_2 - b_2)*(c_1 - d_1))**2)))"
      ]
     },
     "execution_count": 12,
     "metadata": {},
     "output_type": "execute_result"
    }
   ],
   "source": [
    "ee_barrier = dist_barrier(ee_distance2)\n",
    "ee_barrier"
   ]
  },
  {
   "cell_type": "code",
   "execution_count": 13,
   "metadata": {},
   "outputs": [],
   "source": [
    "generate_code_for(ee_barrier, free_symbols, 'edge_edge')"
   ]
  },
  {
   "attachments": {},
   "cell_type": "markdown",
   "metadata": {},
   "source": [
    "# Edge-Vertex Distance\n",
    "\n",
    "- Edge: $a, b$\n",
    "- Vertex: $c$"
   ]
  },
  {
   "cell_type": "code",
   "execution_count": 14,
   "metadata": {},
   "outputs": [
    {
     "data": {
      "text/latex": [
       "$\\displaystyle \\frac{\\left(\\left(a_{0} - b_{0}\\right) \\left(a_{1} - c_{1}\\right) - \\left(a_{0} - c_{0}\\right) \\left(a_{1} - b_{1}\\right)\\right)^{2} + \\left(\\left(a_{0} - b_{0}\\right) \\left(a_{2} - c_{2}\\right) - \\left(a_{0} - c_{0}\\right) \\left(a_{2} - b_{2}\\right)\\right)^{2} + \\left(\\left(a_{1} - b_{1}\\right) \\left(a_{2} - c_{2}\\right) - \\left(a_{1} - c_{1}\\right) \\left(a_{2} - b_{2}\\right)\\right)^{2}}{\\left(a_{0} - b_{0}\\right)^{2} + \\left(a_{1} - b_{1}\\right)^{2} + \\left(a_{2} - b_{2}\\right)^{2}}$"
      ],
      "text/plain": [
       "(((a_0 - b_0)*(a_1 - c_1) - (a_0 - c_0)*(a_1 - b_1))**2 + ((a_0 - b_0)*(a_2 - c_2) - (a_0 - c_0)*(a_2 - b_2))**2 + ((a_1 - b_1)*(a_2 - c_2) - (a_1 - c_1)*(a_2 - b_2))**2)/((a_0 - b_0)**2 + (a_1 - b_1)**2 + (a_2 - b_2)**2)"
      ]
     },
     "execution_count": 14,
     "metadata": {},
     "output_type": "execute_result"
    }
   ],
   "source": [
    "ev_distance = e0.normalized().cross(c - a).norm()\n",
    "ev_distance2 = simplify(ev_distance * ev_distance)\n",
    "ev_distance2"
   ]
  },
  {
   "cell_type": "code",
   "execution_count": 15,
   "metadata": {},
   "outputs": [
    {
     "data": {
      "text/latex": [
       "$\\displaystyle \\left(- d_{h} + \\frac{\\left(\\left(a_{0} - b_{0}\\right) \\left(a_{1} - c_{1}\\right) - \\left(a_{0} - c_{0}\\right) \\left(a_{1} - b_{1}\\right)\\right)^{2} + \\left(\\left(a_{0} - b_{0}\\right) \\left(a_{2} - c_{2}\\right) - \\left(a_{0} - c_{0}\\right) \\left(a_{2} - b_{2}\\right)\\right)^{2} + \\left(\\left(a_{1} - b_{1}\\right) \\left(a_{2} - c_{2}\\right) - \\left(a_{1} - c_{1}\\right) \\left(a_{2} - b_{2}\\right)\\right)^{2}}{\\left(a_{0} - b_{0}\\right)^{2} + \\left(a_{1} - b_{1}\\right)^{2} + \\left(a_{2} - b_{2}\\right)^{2}}\\right) \\left(d_{h} - \\frac{\\left(\\left(a_{0} - b_{0}\\right) \\left(a_{1} - c_{1}\\right) - \\left(a_{0} - c_{0}\\right) \\left(a_{1} - b_{1}\\right)\\right)^{2} + \\left(\\left(a_{0} - b_{0}\\right) \\left(a_{2} - c_{2}\\right) - \\left(a_{0} - c_{0}\\right) \\left(a_{2} - b_{2}\\right)\\right)^{2} + \\left(\\left(a_{1} - b_{1}\\right) \\left(a_{2} - c_{2}\\right) - \\left(a_{1} - c_{1}\\right) \\left(a_{2} - b_{2}\\right)\\right)^{2}}{\\left(a_{0} - b_{0}\\right)^{2} + \\left(a_{1} - b_{1}\\right)^{2} + \\left(a_{2} - b_{2}\\right)^{2}}\\right) \\log{\\left(\\frac{\\left(\\left(a_{0} - b_{0}\\right) \\left(a_{1} - c_{1}\\right) - \\left(a_{0} - c_{0}\\right) \\left(a_{1} - b_{1}\\right)\\right)^{2} + \\left(\\left(a_{0} - b_{0}\\right) \\left(a_{2} - c_{2}\\right) - \\left(a_{0} - c_{0}\\right) \\left(a_{2} - b_{2}\\right)\\right)^{2} + \\left(\\left(a_{1} - b_{1}\\right) \\left(a_{2} - c_{2}\\right) - \\left(a_{1} - c_{1}\\right) \\left(a_{2} - b_{2}\\right)\\right)^{2}}{d_{h} \\left(\\left(a_{0} - b_{0}\\right)^{2} + \\left(a_{1} - b_{1}\\right)^{2} + \\left(a_{2} - b_{2}\\right)^{2}\\right)} \\right)}$"
      ],
      "text/plain": [
       "(-d_h + (((a_0 - b_0)*(a_1 - c_1) - (a_0 - c_0)*(a_1 - b_1))**2 + ((a_0 - b_0)*(a_2 - c_2) - (a_0 - c_0)*(a_2 - b_2))**2 + ((a_1 - b_1)*(a_2 - c_2) - (a_1 - c_1)*(a_2 - b_2))**2)/((a_0 - b_0)**2 + (a_1 - b_1)**2 + (a_2 - b_2)**2))*(d_h - (((a_0 - b_0)*(a_1 - c_1) - (a_0 - c_0)*(a_1 - b_1))**2 + ((a_0 - b_0)*(a_2 - c_2) - (a_0 - c_0)*(a_2 - b_2))**2 + ((a_1 - b_1)*(a_2 - c_2) - (a_1 - c_1)*(a_2 - b_2))**2)/((a_0 - b_0)**2 + (a_1 - b_1)**2 + (a_2 - b_2)**2))*log((((a_0 - b_0)*(a_1 - c_1) - (a_0 - c_0)*(a_1 - b_1))**2 + ((a_0 - b_0)*(a_2 - c_2) - (a_0 - c_0)*(a_2 - b_2))**2 + ((a_1 - b_1)*(a_2 - c_2) - (a_1 - c_1)*(a_2 - b_2))**2)/(d_h*((a_0 - b_0)**2 + (a_1 - b_1)**2 + (a_2 - b_2)**2)))"
      ]
     },
     "execution_count": 15,
     "metadata": {},
     "output_type": "execute_result"
    }
   ],
   "source": [
    "ev_barrier = dist_barrier(ev_distance2)\n",
    "ev_barrier"
   ]
  },
  {
   "cell_type": "code",
   "execution_count": 16,
   "metadata": {},
   "outputs": [
    {
     "data": {
      "text/plain": [
       "[a_0, a_1, a_2, b_0, b_1, b_2, c_0, c_1, c_2]"
      ]
     },
     "execution_count": 16,
     "metadata": {},
     "output_type": "execute_result"
    }
   ],
   "source": [
    "ev_free = free_symbols[:9]\n",
    "ev_free"
   ]
  },
  {
   "cell_type": "code",
   "execution_count": 17,
   "metadata": {},
   "outputs": [],
   "source": [
    "generate_code_for(ev_barrier, ev_free, 'edge_vertex')"
   ]
  },
  {
   "attachments": {},
   "cell_type": "markdown",
   "metadata": {},
   "source": [
    "# Vertex-Vertex\n",
    "\n",
    "V: $a, b$"
   ]
  },
  {
   "cell_type": "code",
   "execution_count": 18,
   "metadata": {},
   "outputs": [
    {
     "data": {
      "text/latex": [
       "$\\displaystyle \\sqrt{\\left(a_{0} - b_{0}\\right)^{2} + \\left(a_{1} - b_{1}\\right)^{2} + \\left(a_{2} - b_{2}\\right)^{2}}$"
      ],
      "text/plain": [
       "sqrt((a_0 - b_0)**2 + (a_1 - b_1)**2 + (a_2 - b_2)**2)"
      ]
     },
     "execution_count": 18,
     "metadata": {},
     "output_type": "execute_result"
    }
   ],
   "source": [
    "vv_dist = simplify(e0.norm())\n",
    "vv_dist"
   ]
  },
  {
   "cell_type": "code",
   "execution_count": 19,
   "metadata": {},
   "outputs": [
    {
     "data": {
      "text/latex": [
       "$\\displaystyle - \\left(d_{h} - \\sqrt{\\left(a_{0} - b_{0}\\right)^{2} + \\left(a_{1} - b_{1}\\right)^{2} + \\left(a_{2} - b_{2}\\right)^{2}}\\right)^{2} \\log{\\left(\\frac{\\sqrt{\\left(a_{0} - b_{0}\\right)^{2} + \\left(a_{1} - b_{1}\\right)^{2} + \\left(a_{2} - b_{2}\\right)^{2}}}{d_{h}} \\right)}$"
      ],
      "text/plain": [
       "-(d_h - sqrt((a_0 - b_0)**2 + (a_1 - b_1)**2 + (a_2 - b_2)**2))**2*log(sqrt((a_0 - b_0)**2 + (a_1 - b_1)**2 + (a_2 - b_2)**2)/d_h)"
      ]
     },
     "execution_count": 19,
     "metadata": {},
     "output_type": "execute_result"
    }
   ],
   "source": [
    "vv_barrier = simplify(dist_barrier(vv_dist))\n",
    "vv_barrier"
   ]
  },
  {
   "cell_type": "code",
   "execution_count": 20,
   "metadata": {},
   "outputs": [],
   "source": [
    "generate_code_for(vv_barrier, free_symbols[:6], 'vertex_vertex')"
   ]
  },
  {
   "cell_type": "code",
   "execution_count": null,
   "metadata": {},
   "outputs": [],
   "source": []
  }
 ],
 "metadata": {
  "kernelspec": {
   "display_name": "base",
   "language": "python",
   "name": "python3"
  },
  "language_info": {
   "codemirror_mode": {
    "name": "ipython",
    "version": 3
   },
   "file_extension": ".py",
   "mimetype": "text/x-python",
   "name": "python",
   "nbconvert_exporter": "python",
   "pygments_lexer": "ipython3",
   "version": "3.9.13"
  },
  "orig_nbformat": 4
 },
 "nbformat": 4,
 "nbformat_minor": 2
}
