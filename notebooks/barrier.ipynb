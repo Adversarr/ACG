{
 "cells": [
  {
   "cell_type": "code",
   "execution_count": 1,
   "metadata": {},
   "outputs": [],
   "source": [
    "import sympy as sp\n",
    "import numpy as np\n",
    "from sympy import Symbol, hessian, simplify, count_ops\n",
    "from functools import reduce\n",
    "from sympy.utilities import codegen\n",
    "from sympy.codegen.rewriting import optimize, optims_c99, create_expand_pow_optimization\n",
    "import os\n",
    "\n",
    "def jacobian_for(expr, vars):\n",
    "    return sp.Matrix([expr]).jacobian(vars)\n",
    "\n",
    "def hessian_for(expr, vars):\n",
    "    return hessian(expr, vars)\n",
    "\n",
    "def generate_code_for(expr, vars, name):\n",
    "    oe = optimize(expr, optims_c99)\n",
    "    jac = jacobian_for(oe, vars)\n",
    "    print(\"Value ops: \", count_ops(oe, True))\n",
    "    print(\"Jacob ops: \", count_ops(jac, True))\n",
    "    cc = codegen.C99CodeGen(project = \"acgipc\", cse=True)\n",
    "    [(cn, cc), (hn, hc)] = codegen.codegen(\n",
    "        [(name + \"_value\", oe),\n",
    "         (name + \"_grad\", jacobian_for(oe, vars))], code_gen=cc)\n",
    "    if not os.path.exists('generated'):\n",
    "        os.mkdir('generated')\n",
    "    with open(\"generated/\" + cn, mode='w') as f:\n",
    "        f.write(cc)\n",
    "    with open(\"generated/\" + hn, mode='w') as f:\n",
    "        f.write(hc)\n",
    "\n"
   ]
  },
  {
   "attachments": {},
   "cell_type": "markdown",
   "metadata": {},
   "source": [
    "# Definition of Barrier Function\n",
    "\n",
    "Barrier is defined as:\n",
    "\n",
    "$$\n",
    "b(d, \\hat d) = \\begin{cases}\n",
    "-(d - \\hat d)^2 \\log (d/\\hat d)& d < \\hat d,\\\\\n",
    "0, & otherwise\n",
    "\\end{cases}\n",
    "$$"
   ]
  },
  {
   "cell_type": "code",
   "execution_count": 2,
   "metadata": {},
   "outputs": [],
   "source": [
    "dhat = sp.var('d_h', real=True, positive=True)\n",
    "def dist_barrier(d):\n",
    "    dsquare = simplify(d * d)\n",
    "    dminus_dhat = (dsquare - sp.Rational(2) * dhat * d + dhat * dhat)\n",
    "    return sp.expand_log(sp.Rational(1, 2) * dminus_dhat * sp.ln(dsquare / dhat / dhat))"
   ]
  },
  {
   "attachments": {},
   "cell_type": "markdown",
   "metadata": {},
   "source": [
    "## test"
   ]
  },
  {
   "cell_type": "code",
   "execution_count": 3,
   "metadata": {},
   "outputs": [
    {
     "data": {
      "text/latex": [
       "$\\displaystyle \\left(\\log{\\left(d^{2} \\right)} - 2 \\log{\\left(d_{h} \\right)}\\right) \\left(\\frac{d^{2}}{2} - d d_{h} + \\frac{d_{h}^{2}}{2}\\right)$"
      ],
      "text/plain": [
       "(log(d**2) - 2*log(d_h))*(d**2/2 - d*d_h + d_h**2/2)"
      ]
     },
     "execution_count": 3,
     "metadata": {},
     "output_type": "execute_result"
    }
   ],
   "source": [
    "dist_barrier(Symbol('d'))"
   ]
  },
  {
   "attachments": {},
   "cell_type": "markdown",
   "metadata": {},
   "source": [
    "# Vertex-Face Barrier\n",
    "\n",
    "- Face = $a, b, c$\n",
    "- Vertex = $d$"
   ]
  },
  {
   "cell_type": "code",
   "execution_count": 4,
   "metadata": {},
   "outputs": [
    {
     "data": {
      "text/plain": [
       "[a_0, a_1, a_2, b_0, b_1, b_2, c_0, c_1, c_2, d_0, d_1, d_2]"
      ]
     },
     "execution_count": 4,
     "metadata": {},
     "output_type": "execute_result"
    }
   ],
   "source": [
    "def declare_vector(name, dim):\n",
    "    return sp.Matrix(sp.symbols([f'{name}_{i}' for i in range(dim)], real=True))\n",
    "\n",
    "a = declare_vector('a', 3)\n",
    "b = declare_vector('b', 3)\n",
    "c = declare_vector('c', 3)\n",
    "d = declare_vector('d', 3)\n",
    "free_symbols = reduce(lambda x, y: x + y, [a.tolist(), b.tolist(), c.tolist(), d.tolist()])\n",
    "free_symbols = reduce(lambda x, y: x + y, free_symbols)\n",
    "free_symbols"
   ]
  },
  {
   "attachments": {},
   "cell_type": "markdown",
   "metadata": {},
   "source": [
    "## Normal of the triangle"
   ]
  },
  {
   "cell_type": "code",
   "execution_count": 5,
   "metadata": {},
   "outputs": [
    {
     "data": {
      "text/latex": [
       "$\\displaystyle \\frac{\\left(- a_{1} + b_{1}\\right) \\left(- a_{2} + c_{2}\\right) - \\left(- a_{1} + c_{1}\\right) \\left(- a_{2} + b_{2}\\right)}{\\sqrt{\\left(\\left(- a_{0} + b_{0}\\right) \\left(- a_{1} + c_{1}\\right) - \\left(- a_{0} + c_{0}\\right) \\left(- a_{1} + b_{1}\\right)\\right)^{2} + \\left(\\left(a_{0} - b_{0}\\right) \\left(a_{2} - c_{2}\\right) - \\left(a_{0} - c_{0}\\right) \\left(a_{2} - b_{2}\\right)\\right)^{2} + \\left(\\left(- a_{1} + b_{1}\\right) \\left(- a_{2} + c_{2}\\right) - \\left(- a_{1} + c_{1}\\right) \\left(- a_{2} + b_{2}\\right)\\right)^{2}}}$"
      ],
      "text/plain": [
       "((-a_1 + b_1)*(-a_2 + c_2) - (-a_1 + c_1)*(-a_2 + b_2))/sqrt(((-a_0 + b_0)*(-a_1 + c_1) - (-a_0 + c_0)*(-a_1 + b_1))**2 + ((a_0 - b_0)*(a_2 - c_2) - (a_0 - c_0)*(a_2 - b_2))**2 + ((-a_1 + b_1)*(-a_2 + c_2) - (-a_1 + c_1)*(-a_2 + b_2))**2)"
      ]
     },
     "execution_count": 5,
     "metadata": {},
     "output_type": "execute_result"
    }
   ],
   "source": [
    "normal = (b - a).cross(c - a)\n",
    "normal_normal = normal.normalized()\n",
    "normal_normal[0]"
   ]
  },
  {
   "attachments": {},
   "cell_type": "markdown",
   "metadata": {},
   "source": [
    "## Offset from triangle vertex 0 to extra vertex"
   ]
  },
  {
   "cell_type": "code",
   "execution_count": 6,
   "metadata": {},
   "outputs": [
    {
     "data": {
      "text/latex": [
       "$\\displaystyle \\left[\\begin{matrix}- a_{0} + d_{0}\\\\- a_{1} + d_{1}\\\\- a_{2} + d_{2}\\end{matrix}\\right]$"
      ],
      "text/plain": [
       "Matrix([\n",
       "[-a_0 + d_0],\n",
       "[-a_1 + d_1],\n",
       "[-a_2 + d_2]])"
      ]
     },
     "execution_count": 6,
     "metadata": {},
     "output_type": "execute_result"
    }
   ],
   "source": [
    "off = (d - a)\n",
    "off"
   ]
  },
  {
   "attachments": {},
   "cell_type": "markdown",
   "metadata": {},
   "source": [
    "## Distance and barrier"
   ]
  },
  {
   "cell_type": "code",
   "execution_count": 7,
   "metadata": {},
   "outputs": [
    {
     "data": {
      "text/latex": [
       "$\\displaystyle \\frac{\\left|{\\left(a_{0} - d_{0}\\right) \\left(\\left(a_{1} - b_{1}\\right) \\left(a_{2} - c_{2}\\right) - \\left(a_{1} - c_{1}\\right) \\left(a_{2} - b_{2}\\right)\\right) - \\left(a_{1} - d_{1}\\right) \\left(\\left(a_{0} - b_{0}\\right) \\left(a_{2} - c_{2}\\right) - \\left(a_{0} - c_{0}\\right) \\left(a_{2} - b_{2}\\right)\\right) + \\left(a_{2} - d_{2}\\right) \\left(\\left(a_{0} - b_{0}\\right) \\left(a_{1} - c_{1}\\right) - \\left(a_{0} - c_{0}\\right) \\left(a_{1} - b_{1}\\right)\\right)}\\right|}{\\sqrt{\\left(\\left(a_{0} - b_{0}\\right) \\left(a_{1} - c_{1}\\right) - \\left(a_{0} - c_{0}\\right) \\left(a_{1} - b_{1}\\right)\\right)^{2} + \\left(\\left(a_{0} - b_{0}\\right) \\left(a_{2} - c_{2}\\right) - \\left(a_{0} - c_{0}\\right) \\left(a_{2} - b_{2}\\right)\\right)^{2} + \\left(\\left(a_{1} - b_{1}\\right) \\left(a_{2} - c_{2}\\right) - \\left(a_{1} - c_{1}\\right) \\left(a_{2} - b_{2}\\right)\\right)^{2}}}$"
      ],
      "text/plain": [
       "Abs((a_0 - d_0)*((a_1 - b_1)*(a_2 - c_2) - (a_1 - c_1)*(a_2 - b_2)) - (a_1 - d_1)*((a_0 - b_0)*(a_2 - c_2) - (a_0 - c_0)*(a_2 - b_2)) + (a_2 - d_2)*((a_0 - b_0)*(a_1 - c_1) - (a_0 - c_0)*(a_1 - b_1)))/sqrt(((a_0 - b_0)*(a_1 - c_1) - (a_0 - c_0)*(a_1 - b_1))**2 + ((a_0 - b_0)*(a_2 - c_2) - (a_0 - c_0)*(a_2 - b_2))**2 + ((a_1 - b_1)*(a_2 - c_2) - (a_1 - c_1)*(a_2 - b_2))**2)"
      ]
     },
     "execution_count": 7,
     "metadata": {},
     "output_type": "execute_result"
    }
   ],
   "source": [
    "distance = simplify(abs(normal_normal.dot(off)))\n",
    "distance"
   ]
  },
  {
   "cell_type": "code",
   "execution_count": 8,
   "metadata": {},
   "outputs": [
    {
     "data": {
      "text/latex": [
       "$\\displaystyle \\left(- 2 \\log{\\left(d_{h} \\right)} + \\log{\\left(\\frac{\\left(\\left(a_{0} - d_{0}\\right) \\left(\\left(a_{1} - b_{1}\\right) \\left(a_{2} - c_{2}\\right) - \\left(a_{1} - c_{1}\\right) \\left(a_{2} - b_{2}\\right)\\right) - \\left(a_{1} - d_{1}\\right) \\left(\\left(a_{0} - b_{0}\\right) \\left(a_{2} - c_{2}\\right) - \\left(a_{0} - c_{0}\\right) \\left(a_{2} - b_{2}\\right)\\right) + \\left(a_{2} - d_{2}\\right) \\left(\\left(a_{0} - b_{0}\\right) \\left(a_{1} - c_{1}\\right) - \\left(a_{0} - c_{0}\\right) \\left(a_{1} - b_{1}\\right)\\right)\\right)^{2}}{\\left(\\left(a_{0} - b_{0}\\right) \\left(a_{1} - c_{1}\\right) - \\left(a_{0} - c_{0}\\right) \\left(a_{1} - b_{1}\\right)\\right)^{2} + \\left(\\left(a_{0} - b_{0}\\right) \\left(a_{2} - c_{2}\\right) - \\left(a_{0} - c_{0}\\right) \\left(a_{2} - b_{2}\\right)\\right)^{2} + \\left(\\left(a_{1} - b_{1}\\right) \\left(a_{2} - c_{2}\\right) - \\left(a_{1} - c_{1}\\right) \\left(a_{2} - b_{2}\\right)\\right)^{2}} \\right)}\\right) \\left(\\frac{d_{h}^{2}}{2} - \\frac{d_{h} \\left|{\\left(a_{0} - d_{0}\\right) \\left(\\left(a_{1} - b_{1}\\right) \\left(a_{2} - c_{2}\\right) - \\left(a_{1} - c_{1}\\right) \\left(a_{2} - b_{2}\\right)\\right) - \\left(a_{1} - d_{1}\\right) \\left(\\left(a_{0} - b_{0}\\right) \\left(a_{2} - c_{2}\\right) - \\left(a_{0} - c_{0}\\right) \\left(a_{2} - b_{2}\\right)\\right) + \\left(a_{2} - d_{2}\\right) \\left(\\left(a_{0} - b_{0}\\right) \\left(a_{1} - c_{1}\\right) - \\left(a_{0} - c_{0}\\right) \\left(a_{1} - b_{1}\\right)\\right)}\\right|}{\\sqrt{\\left(\\left(a_{0} - b_{0}\\right) \\left(a_{1} - c_{1}\\right) - \\left(a_{0} - c_{0}\\right) \\left(a_{1} - b_{1}\\right)\\right)^{2} + \\left(\\left(a_{0} - b_{0}\\right) \\left(a_{2} - c_{2}\\right) - \\left(a_{0} - c_{0}\\right) \\left(a_{2} - b_{2}\\right)\\right)^{2} + \\left(\\left(a_{1} - b_{1}\\right) \\left(a_{2} - c_{2}\\right) - \\left(a_{1} - c_{1}\\right) \\left(a_{2} - b_{2}\\right)\\right)^{2}}} + \\frac{\\left(\\left(a_{0} - d_{0}\\right) \\left(\\left(a_{1} - b_{1}\\right) \\left(a_{2} - c_{2}\\right) - \\left(a_{1} - c_{1}\\right) \\left(a_{2} - b_{2}\\right)\\right) - \\left(a_{1} - d_{1}\\right) \\left(\\left(a_{0} - b_{0}\\right) \\left(a_{2} - c_{2}\\right) - \\left(a_{0} - c_{0}\\right) \\left(a_{2} - b_{2}\\right)\\right) + \\left(a_{2} - d_{2}\\right) \\left(\\left(a_{0} - b_{0}\\right) \\left(a_{1} - c_{1}\\right) - \\left(a_{0} - c_{0}\\right) \\left(a_{1} - b_{1}\\right)\\right)\\right)^{2}}{2 \\left(\\left(\\left(a_{0} - b_{0}\\right) \\left(a_{1} - c_{1}\\right) - \\left(a_{0} - c_{0}\\right) \\left(a_{1} - b_{1}\\right)\\right)^{2} + \\left(\\left(a_{0} - b_{0}\\right) \\left(a_{2} - c_{2}\\right) - \\left(a_{0} - c_{0}\\right) \\left(a_{2} - b_{2}\\right)\\right)^{2} + \\left(\\left(a_{1} - b_{1}\\right) \\left(a_{2} - c_{2}\\right) - \\left(a_{1} - c_{1}\\right) \\left(a_{2} - b_{2}\\right)\\right)^{2}\\right)}\\right)$"
      ],
      "text/plain": [
       "(-2*log(d_h) + log(((a_0 - d_0)*((a_1 - b_1)*(a_2 - c_2) - (a_1 - c_1)*(a_2 - b_2)) - (a_1 - d_1)*((a_0 - b_0)*(a_2 - c_2) - (a_0 - c_0)*(a_2 - b_2)) + (a_2 - d_2)*((a_0 - b_0)*(a_1 - c_1) - (a_0 - c_0)*(a_1 - b_1)))**2/(((a_0 - b_0)*(a_1 - c_1) - (a_0 - c_0)*(a_1 - b_1))**2 + ((a_0 - b_0)*(a_2 - c_2) - (a_0 - c_0)*(a_2 - b_2))**2 + ((a_1 - b_1)*(a_2 - c_2) - (a_1 - c_1)*(a_2 - b_2))**2)))*(d_h**2/2 - d_h*Abs((a_0 - d_0)*((a_1 - b_1)*(a_2 - c_2) - (a_1 - c_1)*(a_2 - b_2)) - (a_1 - d_1)*((a_0 - b_0)*(a_2 - c_2) - (a_0 - c_0)*(a_2 - b_2)) + (a_2 - d_2)*((a_0 - b_0)*(a_1 - c_1) - (a_0 - c_0)*(a_1 - b_1)))/sqrt(((a_0 - b_0)*(a_1 - c_1) - (a_0 - c_0)*(a_1 - b_1))**2 + ((a_0 - b_0)*(a_2 - c_2) - (a_0 - c_0)*(a_2 - b_2))**2 + ((a_1 - b_1)*(a_2 - c_2) - (a_1 - c_1)*(a_2 - b_2))**2) + ((a_0 - d_0)*((a_1 - b_1)*(a_2 - c_2) - (a_1 - c_1)*(a_2 - b_2)) - (a_1 - d_1)*((a_0 - b_0)*(a_2 - c_2) - (a_0 - c_0)*(a_2 - b_2)) + (a_2 - d_2)*((a_0 - b_0)*(a_1 - c_1) - (a_0 - c_0)*(a_1 - b_1)))**2/(2*(((a_0 - b_0)*(a_1 - c_1) - (a_0 - c_0)*(a_1 - b_1))**2 + ((a_0 - b_0)*(a_2 - c_2) - (a_0 - c_0)*(a_2 - b_2))**2 + ((a_1 - b_1)*(a_2 - c_2) - (a_1 - c_1)*(a_2 - b_2))**2)))"
      ]
     },
     "execution_count": 8,
     "metadata": {},
     "output_type": "execute_result"
    }
   ],
   "source": [
    "barrier = dist_barrier(distance)\n",
    "# TODO: Simplify the barrier cost a lot of time.\n",
    "barrier"
   ]
  },
  {
   "attachments": {},
   "cell_type": "markdown",
   "metadata": {},
   "source": [
    "## Hessian and jacobian for barrier"
   ]
  },
  {
   "cell_type": "code",
   "execution_count": 9,
   "metadata": {},
   "outputs": [
    {
     "name": "stdout",
     "output_type": "stream",
     "text": [
      "Value ops:  ABS + 53*ADD + 5*DIV + 2*LOG + 264*MUL + 64*POW + 109*SUB\n",
      "Jacob ops:  21*ABS + 2196*ADD + 171*DIV + 24*LOG + 11181*MUL + 18*NEG + 2490*POW + 12*SIGN + 4356*SUB\n"
     ]
    }
   ],
   "source": [
    "generate_code_for(barrier, free_symbols, \"vertex_face\")"
   ]
  },
  {
   "attachments": {},
   "cell_type": "markdown",
   "metadata": {},
   "source": [
    "# Distance for Edge and Edge\n",
    "\n",
    "- Edge 0: $a, b$\n",
    "- Edge 1: $c, d$"
   ]
  },
  {
   "cell_type": "code",
   "execution_count": 10,
   "metadata": {},
   "outputs": [
    {
     "data": {
      "text/latex": [
       "$\\displaystyle \\left[\\begin{matrix}\\frac{\\left(a_{1} - b_{1}\\right) \\left(c_{2} - d_{2}\\right) - \\left(a_{2} - b_{2}\\right) \\left(c_{1} - d_{1}\\right)}{\\sqrt{\\left(\\left(a_{0} - b_{0}\\right) \\left(c_{1} - d_{1}\\right) - \\left(a_{1} - b_{1}\\right) \\left(c_{0} - d_{0}\\right)\\right)^{2} + \\left(\\left(a_{0} - b_{0}\\right) \\left(c_{2} - d_{2}\\right) - \\left(a_{2} - b_{2}\\right) \\left(c_{0} - d_{0}\\right)\\right)^{2} + \\left(\\left(a_{1} - b_{1}\\right) \\left(c_{2} - d_{2}\\right) - \\left(a_{2} - b_{2}\\right) \\left(c_{1} - d_{1}\\right)\\right)^{2}}}\\\\\\frac{- \\left(a_{0} - b_{0}\\right) \\left(c_{2} - d_{2}\\right) + \\left(a_{2} - b_{2}\\right) \\left(c_{0} - d_{0}\\right)}{\\sqrt{\\left(\\left(a_{0} - b_{0}\\right) \\left(c_{1} - d_{1}\\right) - \\left(a_{1} - b_{1}\\right) \\left(c_{0} - d_{0}\\right)\\right)^{2} + \\left(\\left(a_{0} - b_{0}\\right) \\left(c_{2} - d_{2}\\right) - \\left(a_{2} - b_{2}\\right) \\left(c_{0} - d_{0}\\right)\\right)^{2} + \\left(\\left(a_{1} - b_{1}\\right) \\left(c_{2} - d_{2}\\right) - \\left(a_{2} - b_{2}\\right) \\left(c_{1} - d_{1}\\right)\\right)^{2}}}\\\\\\frac{\\left(a_{0} - b_{0}\\right) \\left(c_{1} - d_{1}\\right) - \\left(a_{1} - b_{1}\\right) \\left(c_{0} - d_{0}\\right)}{\\sqrt{\\left(\\left(a_{0} - b_{0}\\right) \\left(c_{1} - d_{1}\\right) - \\left(a_{1} - b_{1}\\right) \\left(c_{0} - d_{0}\\right)\\right)^{2} + \\left(\\left(a_{0} - b_{0}\\right) \\left(c_{2} - d_{2}\\right) - \\left(a_{2} - b_{2}\\right) \\left(c_{0} - d_{0}\\right)\\right)^{2} + \\left(\\left(a_{1} - b_{1}\\right) \\left(c_{2} - d_{2}\\right) - \\left(a_{2} - b_{2}\\right) \\left(c_{1} - d_{1}\\right)\\right)^{2}}}\\end{matrix}\\right]$"
      ],
      "text/plain": [
       "Matrix([\n",
       "[ ((a_1 - b_1)*(c_2 - d_2) - (a_2 - b_2)*(c_1 - d_1))/sqrt(((a_0 - b_0)*(c_1 - d_1) - (a_1 - b_1)*(c_0 - d_0))**2 + ((a_0 - b_0)*(c_2 - d_2) - (a_2 - b_2)*(c_0 - d_0))**2 + ((a_1 - b_1)*(c_2 - d_2) - (a_2 - b_2)*(c_1 - d_1))**2)],\n",
       "[(-(a_0 - b_0)*(c_2 - d_2) + (a_2 - b_2)*(c_0 - d_0))/sqrt(((a_0 - b_0)*(c_1 - d_1) - (a_1 - b_1)*(c_0 - d_0))**2 + ((a_0 - b_0)*(c_2 - d_2) - (a_2 - b_2)*(c_0 - d_0))**2 + ((a_1 - b_1)*(c_2 - d_2) - (a_2 - b_2)*(c_1 - d_1))**2)],\n",
       "[ ((a_0 - b_0)*(c_1 - d_1) - (a_1 - b_1)*(c_0 - d_0))/sqrt(((a_0 - b_0)*(c_1 - d_1) - (a_1 - b_1)*(c_0 - d_0))**2 + ((a_0 - b_0)*(c_2 - d_2) - (a_2 - b_2)*(c_0 - d_0))**2 + ((a_1 - b_1)*(c_2 - d_2) - (a_2 - b_2)*(c_1 - d_1))**2)]])"
      ]
     },
     "execution_count": 10,
     "metadata": {},
     "output_type": "execute_result"
    }
   ],
   "source": [
    "e0 = a - b\n",
    "e1 = c - d\n",
    "ee_norm = e0.cross(e1).normalized()\n",
    "ee_norm"
   ]
  },
  {
   "cell_type": "code",
   "execution_count": 11,
   "metadata": {},
   "outputs": [
    {
     "data": {
      "text/latex": [
       "$\\displaystyle \\frac{\\left|{\\left(a_{0} - c_{0}\\right) \\left(\\left(a_{1} - b_{1}\\right) \\left(c_{2} - d_{2}\\right) - \\left(a_{2} - b_{2}\\right) \\left(c_{1} - d_{1}\\right)\\right) - \\left(a_{1} - c_{1}\\right) \\left(\\left(a_{0} - b_{0}\\right) \\left(c_{2} - d_{2}\\right) - \\left(a_{2} - b_{2}\\right) \\left(c_{0} - d_{0}\\right)\\right) + \\left(a_{2} - c_{2}\\right) \\left(\\left(a_{0} - b_{0}\\right) \\left(c_{1} - d_{1}\\right) - \\left(a_{1} - b_{1}\\right) \\left(c_{0} - d_{0}\\right)\\right)}\\right|}{\\sqrt{\\left(\\left(a_{0} - b_{0}\\right) \\left(c_{1} - d_{1}\\right) - \\left(a_{1} - b_{1}\\right) \\left(c_{0} - d_{0}\\right)\\right)^{2} + \\left(\\left(a_{0} - b_{0}\\right) \\left(c_{2} - d_{2}\\right) - \\left(a_{2} - b_{2}\\right) \\left(c_{0} - d_{0}\\right)\\right)^{2} + \\left(\\left(a_{1} - b_{1}\\right) \\left(c_{2} - d_{2}\\right) - \\left(a_{2} - b_{2}\\right) \\left(c_{1} - d_{1}\\right)\\right)^{2}}}$"
      ],
      "text/plain": [
       "Abs((a_0 - c_0)*((a_1 - b_1)*(c_2 - d_2) - (a_2 - b_2)*(c_1 - d_1)) - (a_1 - c_1)*((a_0 - b_0)*(c_2 - d_2) - (a_2 - b_2)*(c_0 - d_0)) + (a_2 - c_2)*((a_0 - b_0)*(c_1 - d_1) - (a_1 - b_1)*(c_0 - d_0)))/sqrt(((a_0 - b_0)*(c_1 - d_1) - (a_1 - b_1)*(c_0 - d_0))**2 + ((a_0 - b_0)*(c_2 - d_2) - (a_2 - b_2)*(c_0 - d_0))**2 + ((a_1 - b_1)*(c_2 - d_2) - (a_2 - b_2)*(c_1 - d_1))**2)"
      ]
     },
     "execution_count": 11,
     "metadata": {},
     "output_type": "execute_result"
    }
   ],
   "source": [
    "ee_distance = simplify(abs((c - a).dot(ee_norm)))\n",
    "ee_distance"
   ]
  },
  {
   "cell_type": "code",
   "execution_count": 12,
   "metadata": {},
   "outputs": [
    {
     "data": {
      "text/latex": [
       "$\\displaystyle \\left(- 2 \\log{\\left(d_{h} \\right)} + \\log{\\left(\\frac{\\left(\\left(a_{0} - c_{0}\\right) \\left(\\left(a_{1} - b_{1}\\right) \\left(c_{2} - d_{2}\\right) - \\left(a_{2} - b_{2}\\right) \\left(c_{1} - d_{1}\\right)\\right) - \\left(a_{1} - c_{1}\\right) \\left(\\left(a_{0} - b_{0}\\right) \\left(c_{2} - d_{2}\\right) - \\left(a_{2} - b_{2}\\right) \\left(c_{0} - d_{0}\\right)\\right) + \\left(a_{2} - c_{2}\\right) \\left(\\left(a_{0} - b_{0}\\right) \\left(c_{1} - d_{1}\\right) - \\left(a_{1} - b_{1}\\right) \\left(c_{0} - d_{0}\\right)\\right)\\right)^{2}}{\\left(\\left(a_{0} - b_{0}\\right) \\left(c_{1} - d_{1}\\right) - \\left(a_{1} - b_{1}\\right) \\left(c_{0} - d_{0}\\right)\\right)^{2} + \\left(\\left(a_{0} - b_{0}\\right) \\left(c_{2} - d_{2}\\right) - \\left(a_{2} - b_{2}\\right) \\left(c_{0} - d_{0}\\right)\\right)^{2} + \\left(\\left(a_{1} - b_{1}\\right) \\left(c_{2} - d_{2}\\right) - \\left(a_{2} - b_{2}\\right) \\left(c_{1} - d_{1}\\right)\\right)^{2}} \\right)}\\right) \\left(\\frac{d_{h}^{2}}{2} - \\frac{d_{h} \\left|{\\left(a_{0} - c_{0}\\right) \\left(\\left(a_{1} - b_{1}\\right) \\left(c_{2} - d_{2}\\right) - \\left(a_{2} - b_{2}\\right) \\left(c_{1} - d_{1}\\right)\\right) - \\left(a_{1} - c_{1}\\right) \\left(\\left(a_{0} - b_{0}\\right) \\left(c_{2} - d_{2}\\right) - \\left(a_{2} - b_{2}\\right) \\left(c_{0} - d_{0}\\right)\\right) + \\left(a_{2} - c_{2}\\right) \\left(\\left(a_{0} - b_{0}\\right) \\left(c_{1} - d_{1}\\right) - \\left(a_{1} - b_{1}\\right) \\left(c_{0} - d_{0}\\right)\\right)}\\right|}{\\sqrt{\\left(\\left(a_{0} - b_{0}\\right) \\left(c_{1} - d_{1}\\right) - \\left(a_{1} - b_{1}\\right) \\left(c_{0} - d_{0}\\right)\\right)^{2} + \\left(\\left(a_{0} - b_{0}\\right) \\left(c_{2} - d_{2}\\right) - \\left(a_{2} - b_{2}\\right) \\left(c_{0} - d_{0}\\right)\\right)^{2} + \\left(\\left(a_{1} - b_{1}\\right) \\left(c_{2} - d_{2}\\right) - \\left(a_{2} - b_{2}\\right) \\left(c_{1} - d_{1}\\right)\\right)^{2}}} + \\frac{\\left(\\left(a_{0} - c_{0}\\right) \\left(\\left(a_{1} - b_{1}\\right) \\left(c_{2} - d_{2}\\right) - \\left(a_{2} - b_{2}\\right) \\left(c_{1} - d_{1}\\right)\\right) - \\left(a_{1} - c_{1}\\right) \\left(\\left(a_{0} - b_{0}\\right) \\left(c_{2} - d_{2}\\right) - \\left(a_{2} - b_{2}\\right) \\left(c_{0} - d_{0}\\right)\\right) + \\left(a_{2} - c_{2}\\right) \\left(\\left(a_{0} - b_{0}\\right) \\left(c_{1} - d_{1}\\right) - \\left(a_{1} - b_{1}\\right) \\left(c_{0} - d_{0}\\right)\\right)\\right)^{2}}{2 \\left(\\left(\\left(a_{0} - b_{0}\\right) \\left(c_{1} - d_{1}\\right) - \\left(a_{1} - b_{1}\\right) \\left(c_{0} - d_{0}\\right)\\right)^{2} + \\left(\\left(a_{0} - b_{0}\\right) \\left(c_{2} - d_{2}\\right) - \\left(a_{2} - b_{2}\\right) \\left(c_{0} - d_{0}\\right)\\right)^{2} + \\left(\\left(a_{1} - b_{1}\\right) \\left(c_{2} - d_{2}\\right) - \\left(a_{2} - b_{2}\\right) \\left(c_{1} - d_{1}\\right)\\right)^{2}\\right)}\\right)$"
      ],
      "text/plain": [
       "(-2*log(d_h) + log(((a_0 - c_0)*((a_1 - b_1)*(c_2 - d_2) - (a_2 - b_2)*(c_1 - d_1)) - (a_1 - c_1)*((a_0 - b_0)*(c_2 - d_2) - (a_2 - b_2)*(c_0 - d_0)) + (a_2 - c_2)*((a_0 - b_0)*(c_1 - d_1) - (a_1 - b_1)*(c_0 - d_0)))**2/(((a_0 - b_0)*(c_1 - d_1) - (a_1 - b_1)*(c_0 - d_0))**2 + ((a_0 - b_0)*(c_2 - d_2) - (a_2 - b_2)*(c_0 - d_0))**2 + ((a_1 - b_1)*(c_2 - d_2) - (a_2 - b_2)*(c_1 - d_1))**2)))*(d_h**2/2 - d_h*Abs((a_0 - c_0)*((a_1 - b_1)*(c_2 - d_2) - (a_2 - b_2)*(c_1 - d_1)) - (a_1 - c_1)*((a_0 - b_0)*(c_2 - d_2) - (a_2 - b_2)*(c_0 - d_0)) + (a_2 - c_2)*((a_0 - b_0)*(c_1 - d_1) - (a_1 - b_1)*(c_0 - d_0)))/sqrt(((a_0 - b_0)*(c_1 - d_1) - (a_1 - b_1)*(c_0 - d_0))**2 + ((a_0 - b_0)*(c_2 - d_2) - (a_2 - b_2)*(c_0 - d_0))**2 + ((a_1 - b_1)*(c_2 - d_2) - (a_2 - b_2)*(c_1 - d_1))**2) + ((a_0 - c_0)*((a_1 - b_1)*(c_2 - d_2) - (a_2 - b_2)*(c_1 - d_1)) - (a_1 - c_1)*((a_0 - b_0)*(c_2 - d_2) - (a_2 - b_2)*(c_0 - d_0)) + (a_2 - c_2)*((a_0 - b_0)*(c_1 - d_1) - (a_1 - b_1)*(c_0 - d_0)))**2/(2*(((a_0 - b_0)*(c_1 - d_1) - (a_1 - b_1)*(c_0 - d_0))**2 + ((a_0 - b_0)*(c_2 - d_2) - (a_2 - b_2)*(c_0 - d_0))**2 + ((a_1 - b_1)*(c_2 - d_2) - (a_2 - b_2)*(c_1 - d_1))**2)))"
      ]
     },
     "execution_count": 12,
     "metadata": {},
     "output_type": "execute_result"
    }
   ],
   "source": [
    "ee_barrier = dist_barrier(ee_distance)\n",
    "ee_barrier"
   ]
  },
  {
   "cell_type": "code",
   "execution_count": 13,
   "metadata": {},
   "outputs": [
    {
     "name": "stdout",
     "output_type": "stream",
     "text": [
      "Value ops:  ABS + 71*ADD + 5*DIV + 2*LOG + 396*MUL + 82*POW + 130*SUB\n",
      "Jacob ops:  24*ABS + 3552*ADD + 192*DIV + 24*LOG + 20004*MUL + 24*NEG + 3900*POW + 12*SIGN + 6048*SUB\n"
     ]
    }
   ],
   "source": [
    "generate_code_for(ee_barrier, free_symbols, 'edge_edge')"
   ]
  },
  {
   "attachments": {},
   "cell_type": "markdown",
   "metadata": {},
   "source": [
    "# Edge-Vertex Distance\n",
    "\n",
    "- Edge: $a, b$\n",
    "- Vertex: $c$"
   ]
  },
  {
   "cell_type": "code",
   "execution_count": 14,
   "metadata": {},
   "outputs": [
    {
     "data": {
      "text/latex": [
       "$\\displaystyle \\frac{\\sqrt{\\left(\\left(a_{0} - b_{0}\\right) \\left(a_{1} - c_{1}\\right) - \\left(a_{0} - c_{0}\\right) \\left(a_{1} - b_{1}\\right)\\right)^{2} + \\left(\\left(a_{0} - b_{0}\\right) \\left(a_{2} - c_{2}\\right) - \\left(a_{0} - c_{0}\\right) \\left(a_{2} - b_{2}\\right)\\right)^{2} + \\left(\\left(a_{1} - b_{1}\\right) \\left(a_{2} - c_{2}\\right) - \\left(a_{1} - c_{1}\\right) \\left(a_{2} - b_{2}\\right)\\right)^{2}}}{\\sqrt{\\left(a_{0} - b_{0}\\right)^{2} + \\left(a_{1} - b_{1}\\right)^{2} + \\left(a_{2} - b_{2}\\right)^{2}}}$"
      ],
      "text/plain": [
       "sqrt(((a_0 - b_0)*(a_1 - c_1) - (a_0 - c_0)*(a_1 - b_1))**2 + ((a_0 - b_0)*(a_2 - c_2) - (a_0 - c_0)*(a_2 - b_2))**2 + ((a_1 - b_1)*(a_2 - c_2) - (a_1 - c_1)*(a_2 - b_2))**2)/sqrt((a_0 - b_0)**2 + (a_1 - b_1)**2 + (a_2 - b_2)**2)"
      ]
     },
     "execution_count": 14,
     "metadata": {},
     "output_type": "execute_result"
    }
   ],
   "source": [
    "ev_distance = simplify(abs(e0.normalized().cross(c - a).norm()))\n",
    "ev_distance"
   ]
  },
  {
   "cell_type": "code",
   "execution_count": 15,
   "metadata": {},
   "outputs": [
    {
     "data": {
      "text/latex": [
       "$\\displaystyle \\left(- 2 \\log{\\left(d_{h} \\right)} + \\log{\\left(\\frac{\\left(\\left(a_{0} - b_{0}\\right) \\left(a_{1} - c_{1}\\right) - \\left(a_{0} - c_{0}\\right) \\left(a_{1} - b_{1}\\right)\\right)^{2} + \\left(\\left(a_{0} - b_{0}\\right) \\left(a_{2} - c_{2}\\right) - \\left(a_{0} - c_{0}\\right) \\left(a_{2} - b_{2}\\right)\\right)^{2} + \\left(\\left(a_{1} - b_{1}\\right) \\left(a_{2} - c_{2}\\right) - \\left(a_{1} - c_{1}\\right) \\left(a_{2} - b_{2}\\right)\\right)^{2}}{\\left(a_{0} - b_{0}\\right)^{2} + \\left(a_{1} - b_{1}\\right)^{2} + \\left(a_{2} - b_{2}\\right)^{2}} \\right)}\\right) \\left(\\frac{d_{h}^{2}}{2} - \\frac{d_{h} \\sqrt{\\left(\\left(a_{0} - b_{0}\\right) \\left(a_{1} - c_{1}\\right) - \\left(a_{0} - c_{0}\\right) \\left(a_{1} - b_{1}\\right)\\right)^{2} + \\left(\\left(a_{0} - b_{0}\\right) \\left(a_{2} - c_{2}\\right) - \\left(a_{0} - c_{0}\\right) \\left(a_{2} - b_{2}\\right)\\right)^{2} + \\left(\\left(a_{1} - b_{1}\\right) \\left(a_{2} - c_{2}\\right) - \\left(a_{1} - c_{1}\\right) \\left(a_{2} - b_{2}\\right)\\right)^{2}}}{\\sqrt{\\left(a_{0} - b_{0}\\right)^{2} + \\left(a_{1} - b_{1}\\right)^{2} + \\left(a_{2} - b_{2}\\right)^{2}}} + \\frac{\\left(\\left(a_{0} - b_{0}\\right) \\left(a_{1} - c_{1}\\right) - \\left(a_{0} - c_{0}\\right) \\left(a_{1} - b_{1}\\right)\\right)^{2} + \\left(\\left(a_{0} - b_{0}\\right) \\left(a_{2} - c_{2}\\right) - \\left(a_{0} - c_{0}\\right) \\left(a_{2} - b_{2}\\right)\\right)^{2} + \\left(\\left(a_{1} - b_{1}\\right) \\left(a_{2} - c_{2}\\right) - \\left(a_{1} - c_{1}\\right) \\left(a_{2} - b_{2}\\right)\\right)^{2}}{2 \\left(\\left(a_{0} - b_{0}\\right)^{2} + \\left(a_{1} - b_{1}\\right)^{2} + \\left(a_{2} - b_{2}\\right)^{2}\\right)}\\right)$"
      ],
      "text/plain": [
       "(-2*log(d_h) + log((((a_0 - b_0)*(a_1 - c_1) - (a_0 - c_0)*(a_1 - b_1))**2 + ((a_0 - b_0)*(a_2 - c_2) - (a_0 - c_0)*(a_2 - b_2))**2 + ((a_1 - b_1)*(a_2 - c_2) - (a_1 - c_1)*(a_2 - b_2))**2)/((a_0 - b_0)**2 + (a_1 - b_1)**2 + (a_2 - b_2)**2)))*(d_h**2/2 - d_h*sqrt(((a_0 - b_0)*(a_1 - c_1) - (a_0 - c_0)*(a_1 - b_1))**2 + ((a_0 - b_0)*(a_2 - c_2) - (a_0 - c_0)*(a_2 - b_2))**2 + ((a_1 - b_1)*(a_2 - c_2) - (a_1 - c_1)*(a_2 - b_2))**2)/sqrt((a_0 - b_0)**2 + (a_1 - b_1)**2 + (a_2 - b_2)**2) + (((a_0 - b_0)*(a_1 - c_1) - (a_0 - c_0)*(a_1 - b_1))**2 + ((a_0 - b_0)*(a_2 - c_2) - (a_0 - c_0)*(a_2 - b_2))**2 + ((a_1 - b_1)*(a_2 - c_2) - (a_1 - c_1)*(a_2 - b_2))**2)/(2*((a_0 - b_0)**2 + (a_1 - b_1)**2 + (a_2 - b_2)**2)))"
      ]
     },
     "execution_count": 15,
     "metadata": {},
     "output_type": "execute_result"
    }
   ],
   "source": [
    "ev_barrier = dist_barrier(ev_distance)\n",
    "ev_barrier"
   ]
  },
  {
   "cell_type": "code",
   "execution_count": 16,
   "metadata": {},
   "outputs": [
    {
     "data": {
      "text/plain": [
       "[a_0, a_1, a_2, b_0, b_1, b_2, c_0, c_1, c_2]"
      ]
     },
     "execution_count": 16,
     "metadata": {},
     "output_type": "execute_result"
    }
   ],
   "source": [
    "ev_free = free_symbols[:9]\n",
    "ev_free"
   ]
  },
  {
   "cell_type": "code",
   "execution_count": 17,
   "metadata": {},
   "outputs": [
    {
     "name": "stdout",
     "output_type": "stream",
     "text": [
      "Value ops:  49*ADD + 6*DIV + 2*LOG + 204*MUL + 75*POW + 68*SUB\n",
      "Jacob ops:  1296*ADD + 153*DIV + 18*LOG + 5586*MUL + 1860*POW + 1815*SUB\n"
     ]
    }
   ],
   "source": [
    "generate_code_for(ev_barrier, ev_free, 'edge_vertex')"
   ]
  },
  {
   "attachments": {},
   "cell_type": "markdown",
   "metadata": {},
   "source": [
    "# Vertex-Vertex\n",
    "\n",
    "V: $a, b$"
   ]
  },
  {
   "cell_type": "code",
   "execution_count": 18,
   "metadata": {},
   "outputs": [
    {
     "data": {
      "text/latex": [
       "$\\displaystyle \\sqrt{\\left(a_{0} - b_{0}\\right)^{2} + \\left(a_{1} - b_{1}\\right)^{2} + \\left(a_{2} - b_{2}\\right)^{2}}$"
      ],
      "text/plain": [
       "sqrt((a_0 - b_0)**2 + (a_1 - b_1)**2 + (a_2 - b_2)**2)"
      ]
     },
     "execution_count": 18,
     "metadata": {},
     "output_type": "execute_result"
    }
   ],
   "source": [
    "vv_dist = simplify(e0.norm())\n",
    "vv_dist"
   ]
  },
  {
   "cell_type": "code",
   "execution_count": 19,
   "metadata": {},
   "outputs": [
    {
     "data": {
      "text/latex": [
       "$\\displaystyle - \\frac{\\left(2 \\log{\\left(d_{h} \\right)} - \\log{\\left(\\left(a_{0} - b_{0}\\right)^{2} + \\left(a_{1} - b_{1}\\right)^{2} + \\left(a_{2} - b_{2}\\right)^{2} \\right)}\\right) \\left(d_{h}^{2} - 2 d_{h} \\sqrt{\\left(a_{0} - b_{0}\\right)^{2} + \\left(a_{1} - b_{1}\\right)^{2} + \\left(a_{2} - b_{2}\\right)^{2}} + \\left(a_{0} - b_{0}\\right)^{2} + \\left(a_{1} - b_{1}\\right)^{2} + \\left(a_{2} - b_{2}\\right)^{2}\\right)}{2}$"
      ],
      "text/plain": [
       "-(2*log(d_h) - log((a_0 - b_0)**2 + (a_1 - b_1)**2 + (a_2 - b_2)**2))*(d_h**2 - 2*d_h*sqrt((a_0 - b_0)**2 + (a_1 - b_1)**2 + (a_2 - b_2)**2) + (a_0 - b_0)**2 + (a_1 - b_1)**2 + (a_2 - b_2)**2)/2"
      ]
     },
     "execution_count": 19,
     "metadata": {},
     "output_type": "execute_result"
    }
   ],
   "source": [
    "vv_barrier = simplify(dist_barrier(vv_dist))\n",
    "vv_barrier"
   ]
  },
  {
   "cell_type": "code",
   "execution_count": 20,
   "metadata": {},
   "outputs": [
    {
     "name": "stdout",
     "output_type": "stream",
     "text": [
      "Value ops:  10*ADD + 2*DIV + 2*LOG + 10*MUL + NEG + 14*POW + 11*SUB\n",
      "Jacob ops:  108*ADD + 30*DIV + 12*LOG + 168*MUL + 144*POW + 126*SUB\n"
     ]
    }
   ],
   "source": [
    "generate_code_for(vv_barrier, free_symbols[:6], 'vertex_vertex')"
   ]
  },
  {
   "cell_type": "code",
   "execution_count": 22,
   "metadata": {},
   "outputs": [
    {
     "data": {
      "text/latex": [
       "$\\displaystyle \\left(- 2 \\log{\\left(d_{h} \\right)} + \\log{\\left(\\left(a_{0} - b_{0}\\right)^{2} + \\left(a_{1} - b_{1}\\right)^{2} + \\left(a_{2} - b_{2}\\right)^{2} \\right)}\\right) \\left(\\frac{d_{h}^{2}}{2} - d_{h} \\sqrt{\\left(a_{0} - b_{0}\\right)^{2} + \\left(a_{1} - b_{1}\\right)^{2} + \\left(a_{2} - b_{2}\\right)^{2}} + \\frac{\\left(a_{0} - b_{0}\\right)^{2}}{2} + \\frac{\\left(a_{1} - b_{1}\\right)^{2}}{2} + \\frac{\\left(a_{2} - b_{2}\\right)^{2}}{2}\\right)$"
      ],
      "text/plain": [
       "(-2*log(d_h) + log((a_0 - b_0)**2 + (a_1 - b_1)**2 + (a_2 - b_2)**2))*(d_h**2/2 - d_h*sqrt((a_0 - b_0)**2 + (a_1 - b_1)**2 + (a_2 - b_2)**2) + (a_0 - b_0)**2/2 + (a_1 - b_1)**2/2 + (a_2 - b_2)**2/2)"
      ]
     },
     "execution_count": 22,
     "metadata": {},
     "output_type": "execute_result"
    }
   ],
   "source": [
    "dist_barrier(vv_dist)"
   ]
  },
  {
   "cell_type": "code",
   "execution_count": null,
   "metadata": {},
   "outputs": [],
   "source": []
  }
 ],
 "metadata": {
  "kernelspec": {
   "display_name": "base",
   "language": "python",
   "name": "python3"
  },
  "language_info": {
   "codemirror_mode": {
    "name": "ipython",
    "version": 3
   },
   "file_extension": ".py",
   "mimetype": "text/x-python",
   "name": "python",
   "nbconvert_exporter": "python",
   "pygments_lexer": "ipython3",
   "version": "3.9.13"
  },
  "orig_nbformat": 4,
  "vscode": {
   "interpreter": {
    "hash": "38cca0c38332a56087b24af0bc80247f4fced29cb4f7f437d91dc159adec9c4e"
   }
  }
 },
 "nbformat": 4,
 "nbformat_minor": 2
}
